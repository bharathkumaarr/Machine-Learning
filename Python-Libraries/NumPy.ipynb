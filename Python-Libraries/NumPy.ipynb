{
  "nbformat": 4,
  "nbformat_minor": 0,
  "metadata": {
    "colab": {
      "provenance": [],
      "collapsed_sections": [
        "7EmFa6pxbbD7"
      ],
      "authorship_tag": "ABX9TyOUhX3fJsz+yV6cZtXIasoG",
      "include_colab_link": true
    },
    "kernelspec": {
      "name": "python3",
      "display_name": "Python 3"
    },
    "language_info": {
      "name": "python"
    }
  },
  "cells": [
    {
      "cell_type": "markdown",
      "metadata": {
        "id": "view-in-github",
        "colab_type": "text"
      },
      "source": [
        "<a href=\"https://colab.research.google.com/github/bharathkumaarr/Machine-Learning/blob/main/Python-Libraries/NumPy.ipynb\" target=\"_parent\"><img src=\"https://colab.research.google.com/assets/colab-badge.svg\" alt=\"Open In Colab\"/></a>"
      ]
    },
    {
      "cell_type": "markdown",
      "source": [
        "#NumPy - Numerical Python\n",
        "\n",
        "\n",
        "Advantages:\n",
        "1. Allows several mathematical Operations\n",
        "2. Faster operations\n",
        "\n",
        "Library(Pre-made functions/classes)"
      ],
      "metadata": {
        "id": "7EmFa6pxbbD7"
      }
    },
    {
      "cell_type": "code",
      "execution_count": 1,
      "metadata": {
        "id": "SWdpQV06VMfv"
      },
      "outputs": [],
      "source": [
        "import numpy as np"
      ]
    },
    {
      "cell_type": "markdown",
      "source": [
        "Time Taken by List & Numpy"
      ],
      "metadata": {
        "id": "I8ZWkSIShNHv"
      }
    },
    {
      "cell_type": "code",
      "source": [
        "from time import process_time"
      ],
      "metadata": {
        "id": "ZqypKXu5gsUD"
      },
      "execution_count": 2,
      "outputs": []
    },
    {
      "cell_type": "markdown",
      "source": [
        "*time taken by a list*"
      ],
      "metadata": {
        "id": "LT-bO1CJhYMD"
      }
    },
    {
      "cell_type": "code",
      "source": [
        "python_list = [i for i in range(10000000)]\n",
        "start_time = process_time()\n",
        "python_list = [i+5 for i in python_list ]\n",
        "end_time = process_time()\n",
        "print(end_time - start_time)"
      ],
      "metadata": {
        "colab": {
          "base_uri": "https://localhost:8080/"
        },
        "id": "nFhk0U03hWPx",
        "outputId": "0c40abb3-b5e0-463c-bcc1-121b1d37364a"
      },
      "execution_count": 3,
      "outputs": [
        {
          "output_type": "stream",
          "name": "stdout",
          "text": [
            "0.7426290099999999\n"
          ]
        }
      ]
    },
    {
      "cell_type": "markdown",
      "source": [
        "*time taken by Numpy*"
      ],
      "metadata": {
        "id": "rEo2ZcXeiR2t"
      }
    },
    {
      "cell_type": "code",
      "source": [
        "np_array = np.array([i for i in range(10000000)])\n",
        "start_time = process_time()\n",
        "np_array +=5\n",
        "end_time = process_time()\n",
        "print(end_time - start_time)"
      ],
      "metadata": {
        "colab": {
          "base_uri": "https://localhost:8080/"
        },
        "id": "cI2s1yduiGS4",
        "outputId": "53b0dd52-5af7-40f0-b5bc-919c220e9b18"
      },
      "execution_count": 4,
      "outputs": [
        {
          "output_type": "stream",
          "name": "stdout",
          "text": [
            "0.010413956000000724\n"
          ]
        }
      ]
    },
    {
      "cell_type": "markdown",
      "source": [
        "#Numpy Arrays"
      ],
      "metadata": {
        "id": "uTCYKqeojP3q"
      }
    },
    {
      "cell_type": "code",
      "source": [
        "list1 = [1,2,3,4,5]\n",
        "print(type(list1))\n",
        "print(list1)"
      ],
      "metadata": {
        "colab": {
          "base_uri": "https://localhost:8080/"
        },
        "id": "FAIzTFTUirJ9",
        "outputId": "74a17896-f262-4326-dc87-904f0dc60c61"
      },
      "execution_count": 5,
      "outputs": [
        {
          "output_type": "stream",
          "name": "stdout",
          "text": [
            "<class 'list'>\n",
            "[1, 2, 3, 4, 5]\n"
          ]
        }
      ]
    },
    {
      "cell_type": "code",
      "source": [
        "np_array = np.array(list1)\n",
        "print(type(np_array))\n",
        "print(np_array)"
      ],
      "metadata": {
        "colab": {
          "base_uri": "https://localhost:8080/"
        },
        "id": "VSD6jGC0je0v",
        "outputId": "a912c274-2002-4b02-c212-af972a638b45"
      },
      "execution_count": 6,
      "outputs": [
        {
          "output_type": "stream",
          "name": "stdout",
          "text": [
            "<class 'numpy.ndarray'>\n",
            "[1 2 3 4 5]\n"
          ]
        }
      ]
    },
    {
      "cell_type": "markdown",
      "source": [
        "ndarray: N-Dimensional array\n",
        "\n",
        "Similar to a Matrix"
      ],
      "metadata": {
        "id": "v_BkgWujj5b1"
      }
    },
    {
      "cell_type": "code",
      "source": [
        "#creating a 1 Dimensional Array\n",
        "a = np.array([123,345,67,89])\n",
        "print(a)"
      ],
      "metadata": {
        "colab": {
          "base_uri": "https://localhost:8080/"
        },
        "id": "Bp-zZWunjppi",
        "outputId": "f862a30c-71ae-4a17-e776-b19e83141bbd"
      },
      "execution_count": 7,
      "outputs": [
        {
          "output_type": "stream",
          "name": "stdout",
          "text": [
            "[123 345  67  89]\n"
          ]
        }
      ]
    },
    {
      "cell_type": "code",
      "source": [
        "print(a)\n",
        "a.shape #gives number of columns and rows\n",
        "# for 1d array first number is number of columns"
      ],
      "metadata": {
        "colab": {
          "base_uri": "https://localhost:8080/"
        },
        "id": "8BCuRwcBkc8Q",
        "outputId": "93c79048-2fe5-4b02-9013-86fee122cb51"
      },
      "execution_count": 8,
      "outputs": [
        {
          "output_type": "stream",
          "name": "stdout",
          "text": [
            "[123 345  67  89]\n"
          ]
        },
        {
          "output_type": "execute_result",
          "data": {
            "text/plain": [
              "(4,)"
            ]
          },
          "metadata": {},
          "execution_count": 8
        }
      ]
    },
    {
      "cell_type": "code",
      "source": [
        "b = np.array([(1,2,3,4),(5,6,77,8)])\n",
        "print(b)\n",
        "b.shape #gives number of rows and columns (rows and columns)"
      ],
      "metadata": {
        "colab": {
          "base_uri": "https://localhost:8080/"
        },
        "id": "tsfxaXi_k7ho",
        "outputId": "2197e95d-2f7d-43a4-b640-ccdafb2af713"
      },
      "execution_count": 9,
      "outputs": [
        {
          "output_type": "stream",
          "name": "stdout",
          "text": [
            "[[ 1  2  3  4]\n",
            " [ 5  6 77  8]]\n"
          ]
        },
        {
          "output_type": "execute_result",
          "data": {
            "text/plain": [
              "(2, 4)"
            ]
          },
          "metadata": {},
          "execution_count": 9
        }
      ]
    },
    {
      "cell_type": "code",
      "source": [
        "c = np.array([(1,2,3,4), (5,6,7,8)],dtype = float) #default is int\n",
        "print(c)"
      ],
      "metadata": {
        "colab": {
          "base_uri": "https://localhost:8080/"
        },
        "id": "Xz1y5crOlSue",
        "outputId": "7a78f2cb-c956-4da5-e041-5fbedd0f437d"
      },
      "execution_count": 10,
      "outputs": [
        {
          "output_type": "stream",
          "name": "stdout",
          "text": [
            "[[1. 2. 3. 4.]\n",
            " [5. 6. 7. 8.]]\n"
          ]
        }
      ]
    },
    {
      "cell_type": "code",
      "source": [
        "c = np.array([(1,2,3,4),(5,6,7,8)],dtype = str)\n",
        "print(c)"
      ],
      "metadata": {
        "colab": {
          "base_uri": "https://localhost:8080/"
        },
        "id": "jMWz8wDamPI9",
        "outputId": "9c471b09-2a62-46d2-cb3d-3cc4a4133b4e"
      },
      "execution_count": 11,
      "outputs": [
        {
          "output_type": "stream",
          "name": "stdout",
          "text": [
            "[['1' '2' '3' '4']\n",
            " ['5' '6' '7' '8']]\n"
          ]
        }
      ]
    },
    {
      "cell_type": "markdown",
      "source": [
        "Initial Place Holder in numpy arrays"
      ],
      "metadata": {
        "id": "gugXOmtYm6Zw"
      }
    },
    {
      "cell_type": "code",
      "source": [
        "#create a numpy array of zeros\n",
        "x = np.zeros((4,5)) # 4 rows and 5 columns\n",
        "print(x)"
      ],
      "metadata": {
        "colab": {
          "base_uri": "https://localhost:8080/"
        },
        "id": "h7qhL_kpmZfF",
        "outputId": "1c370d1f-9302-4d7b-c4ad-ae67e6d1ff27"
      },
      "execution_count": 12,
      "outputs": [
        {
          "output_type": "stream",
          "name": "stdout",
          "text": [
            "[[0. 0. 0. 0. 0.]\n",
            " [0. 0. 0. 0. 0.]\n",
            " [0. 0. 0. 0. 0.]\n",
            " [0. 0. 0. 0. 0.]]\n"
          ]
        }
      ]
    },
    {
      "cell_type": "code",
      "source": [
        "#create a numpy array of ones\n",
        "y = np.ones((3,4)) # 3 rows and 4 columns\n",
        "print(y)"
      ],
      "metadata": {
        "colab": {
          "base_uri": "https://localhost:8080/"
        },
        "id": "WaaJ4KexnNe9",
        "outputId": "593c46a8-5d3c-4747-fc87-d26adb37d4fd"
      },
      "execution_count": 13,
      "outputs": [
        {
          "output_type": "stream",
          "name": "stdout",
          "text": [
            "[[1. 1. 1. 1.]\n",
            " [1. 1. 1. 1.]\n",
            " [1. 1. 1. 1.]]\n"
          ]
        }
      ]
    },
    {
      "cell_type": "code",
      "source": [
        "#create a numpy array of specific values\n",
        "z = np.full((4,5),3) # 4 rows and 5 columns\n",
        "print(z)"
      ],
      "metadata": {
        "colab": {
          "base_uri": "https://localhost:8080/"
        },
        "id": "2bvTv5zCnpVU",
        "outputId": "fef8e96d-92f1-41dc-c5e7-1c564200c59a"
      },
      "execution_count": 14,
      "outputs": [
        {
          "output_type": "stream",
          "name": "stdout",
          "text": [
            "[[3 3 3 3 3]\n",
            " [3 3 3 3 3]\n",
            " [3 3 3 3 3]\n",
            " [3 3 3 3 3]]\n"
          ]
        }
      ]
    },
    {
      "cell_type": "code",
      "source": [
        "#create identity matrix\n",
        "i = np.eye(4) #4x4 matrix\n",
        "print(i)"
      ],
      "metadata": {
        "colab": {
          "base_uri": "https://localhost:8080/"
        },
        "id": "mQ-PgHvjoEdo",
        "outputId": "e997605c-fc03-42f4-fadb-33c3939e76d3"
      },
      "execution_count": 15,
      "outputs": [
        {
          "output_type": "stream",
          "name": "stdout",
          "text": [
            "[[1. 0. 0. 0.]\n",
            " [0. 1. 0. 0.]\n",
            " [0. 0. 1. 0.]\n",
            " [0. 0. 0. 1.]]\n"
          ]
        }
      ]
    },
    {
      "cell_type": "code",
      "source": [
        "#create numpy array with random values\n",
        "n = np.random.random((3,4))\n",
        "print(n) # all numbers between 0 and 1"
      ],
      "metadata": {
        "colab": {
          "base_uri": "https://localhost:8080/"
        },
        "id": "cLTAc397oZpN",
        "outputId": "edbfa5d7-c898-4753-9db6-30d3af40aca9"
      },
      "execution_count": 16,
      "outputs": [
        {
          "output_type": "stream",
          "name": "stdout",
          "text": [
            "[[0.26596526 0.39691545 0.71451783 0.69443735]\n",
            " [0.97354225 0.9464284  0.07400786 0.69276807]\n",
            " [0.39458343 0.45637605 0.41931551 0.65206105]]\n"
          ]
        }
      ]
    },
    {
      "cell_type": "code",
      "source": [
        "# random integer values array with specific range\n",
        "n = np.random.randint(10,100,(3,5)) #10 to 100\n",
        "print(n)"
      ],
      "metadata": {
        "colab": {
          "base_uri": "https://localhost:8080/"
        },
        "id": "NB6W2LLZotVZ",
        "outputId": "0d89774d-696c-4184-e4a9-5f7f9355bf95"
      },
      "execution_count": 17,
      "outputs": [
        {
          "output_type": "stream",
          "name": "stdout",
          "text": [
            "[[24 11 30 90 32]\n",
            " [14 69 36 95 75]\n",
            " [66 33 49 25 55]]\n"
          ]
        }
      ]
    },
    {
      "cell_type": "code",
      "source": [
        "#array of evenly spaced values ---> specifying number of values we want betwen the range\n",
        "a = np.linspace(10,30,5)\n",
        "print(a)"
      ],
      "metadata": {
        "colab": {
          "base_uri": "https://localhost:8080/"
        },
        "id": "Pg5uWmmtpDs0",
        "outputId": "4a3eb739-050a-4d6c-8b59-2aa735972bac"
      },
      "execution_count": 18,
      "outputs": [
        {
          "output_type": "stream",
          "name": "stdout",
          "text": [
            "[10. 15. 20. 25. 30.]\n"
          ]
        }
      ]
    },
    {
      "cell_type": "code",
      "source": [
        "#array of evenly spaced values ---> specifying the step\n",
        "b = np.arange(10,30,5) # a-range\n",
        "print(b)"
      ],
      "metadata": {
        "colab": {
          "base_uri": "https://localhost:8080/"
        },
        "id": "4H9KfWtfqCj4",
        "outputId": "3af6034a-c9d2-489f-986d-53a10f659732"
      },
      "execution_count": 19,
      "outputs": [
        {
          "output_type": "stream",
          "name": "stdout",
          "text": [
            "[10 15 20 25]\n"
          ]
        }
      ]
    },
    {
      "cell_type": "code",
      "source": [
        "#convert a list/tuple to numpy array\n",
        "list2 = [1,2,4,5,6,7,7] # (1,2,3,4,5,6)\n",
        "nparray = np.asarray(list2)\n",
        "print(nparray)\n",
        "print(type(nparray))"
      ],
      "metadata": {
        "colab": {
          "base_uri": "https://localhost:8080/"
        },
        "id": "xGt690OmqdcQ",
        "outputId": "c6e1ed18-f7e2-49f4-901f-9ce2ef6b22ea"
      },
      "execution_count": 20,
      "outputs": [
        {
          "output_type": "stream",
          "name": "stdout",
          "text": [
            "[1 2 4 5 6 7 7]\n",
            "<class 'numpy.ndarray'>\n"
          ]
        }
      ]
    },
    {
      "cell_type": "markdown",
      "source": [
        "#Analysing Numpy Arrays"
      ],
      "metadata": {
        "id": "UHP4H0UVraS-"
      }
    },
    {
      "cell_type": "code",
      "source": [
        "new = np.random.randint(10,100,(5,5)) #10 to 100\n",
        "print(new)"
      ],
      "metadata": {
        "colab": {
          "base_uri": "https://localhost:8080/"
        },
        "id": "APm0Mifuq-4a",
        "outputId": "4a9e0e18-8bb4-45f4-c8ad-863032907932"
      },
      "execution_count": 21,
      "outputs": [
        {
          "output_type": "stream",
          "name": "stdout",
          "text": [
            "[[19 17 30 54 54]\n",
            " [95 13 83 42 12]\n",
            " [40 99 74 96 13]\n",
            " [35 44 21 49 91]\n",
            " [25 27 30 90 26]]\n"
          ]
        }
      ]
    },
    {
      "cell_type": "code",
      "source": [
        "#array dimension\n",
        "print(new.shape)"
      ],
      "metadata": {
        "colab": {
          "base_uri": "https://localhost:8080/"
        },
        "id": "rQNpY6gprnTR",
        "outputId": "8ed73592-a8fb-4fac-e9bb-b897f24d1d4a"
      },
      "execution_count": 22,
      "outputs": [
        {
          "output_type": "stream",
          "name": "stdout",
          "text": [
            "(5, 5)\n"
          ]
        }
      ]
    },
    {
      "cell_type": "code",
      "source": [
        "#number of dimensions\n",
        "print(new.ndim)"
      ],
      "metadata": {
        "colab": {
          "base_uri": "https://localhost:8080/"
        },
        "id": "mIk0CE7srvgY",
        "outputId": "98f8fd6c-2329-434f-a41f-6d1647e4d0c3"
      },
      "execution_count": 23,
      "outputs": [
        {
          "output_type": "stream",
          "name": "stdout",
          "text": [
            "2\n"
          ]
        }
      ]
    },
    {
      "cell_type": "code",
      "source": [
        "#number of elements\n",
        "print(new.size)"
      ],
      "metadata": {
        "colab": {
          "base_uri": "https://localhost:8080/"
        },
        "id": "hDAZSmesr2sI",
        "outputId": "b82a2847-1c50-4de8-fe44-5a275b8ffe71"
      },
      "execution_count": 24,
      "outputs": [
        {
          "output_type": "stream",
          "name": "stdout",
          "text": [
            "25\n"
          ]
        }
      ]
    },
    {
      "cell_type": "code",
      "source": [
        "#to check datatpe of values\n",
        "print(new.dtype)"
      ],
      "metadata": {
        "colab": {
          "base_uri": "https://localhost:8080/"
        },
        "id": "5Uk1Zrtdr_vp",
        "outputId": "3a00edef-2a0d-436a-fde3-47c1e2bce64e"
      },
      "execution_count": 25,
      "outputs": [
        {
          "output_type": "stream",
          "name": "stdout",
          "text": [
            "int64\n"
          ]
        }
      ]
    },
    {
      "cell_type": "markdown",
      "source": [
        "#Mathematical Operations on MumPy array"
      ],
      "metadata": {
        "id": "3Mm4PkXwsOh9"
      }
    },
    {
      "cell_type": "code",
      "source": [
        "list1 = [1,2,3,4,5]\n",
        "list2 = [6,7,8,9,10]\n",
        "print(list1 + list2) #concatenate"
      ],
      "metadata": {
        "colab": {
          "base_uri": "https://localhost:8080/"
        },
        "id": "NOQZVhqTsSLu",
        "outputId": "6ec6a6e1-c330-43b8-a316-4e6a6b3b24c8"
      },
      "execution_count": 26,
      "outputs": [
        {
          "output_type": "stream",
          "name": "stdout",
          "text": [
            "[1, 2, 3, 4, 5, 6, 7, 8, 9, 10]\n"
          ]
        }
      ]
    },
    {
      "cell_type": "code",
      "source": [
        "a = np.random.randint(0,10,(3,3))\n",
        "b = np.random.randint(10,20,(3,3))\n",
        "print(a)\n",
        "print(b)"
      ],
      "metadata": {
        "colab": {
          "base_uri": "https://localhost:8080/"
        },
        "id": "izYYEN8ysX9V",
        "outputId": "3450a8e4-20a2-4b20-d347-161b54199d8d"
      },
      "execution_count": 27,
      "outputs": [
        {
          "output_type": "stream",
          "name": "stdout",
          "text": [
            "[[2 0 5]\n",
            " [9 2 7]\n",
            " [5 3 1]]\n",
            "[[13 19 11]\n",
            " [14 13 18]\n",
            " [14 11 13]]\n"
          ]
        }
      ]
    },
    {
      "cell_type": "code",
      "source": [
        "print(a+b) #element wise addition like in matrices"
      ],
      "metadata": {
        "colab": {
          "base_uri": "https://localhost:8080/"
        },
        "id": "JkaiTRzzspAv",
        "outputId": "110fdcba-8139-4ca9-c6a3-38e8dfb0265a"
      },
      "execution_count": 28,
      "outputs": [
        {
          "output_type": "stream",
          "name": "stdout",
          "text": [
            "[[15 19 16]\n",
            " [23 15 25]\n",
            " [19 14 14]]\n"
          ]
        }
      ]
    },
    {
      "cell_type": "code",
      "source": [
        "print(a*b)"
      ],
      "metadata": {
        "colab": {
          "base_uri": "https://localhost:8080/"
        },
        "id": "t_KSH92Nsz7Y",
        "outputId": "dcd0df55-d63e-4d28-a0c8-343399a10e3a"
      },
      "execution_count": 29,
      "outputs": [
        {
          "output_type": "stream",
          "name": "stdout",
          "text": [
            "[[ 26   0  55]\n",
            " [126  26 126]\n",
            " [ 70  33  13]]\n"
          ]
        }
      ]
    },
    {
      "cell_type": "code",
      "source": [
        "print(np.add(a,b)) # same as a+b"
      ],
      "metadata": {
        "colab": {
          "base_uri": "https://localhost:8080/"
        },
        "id": "ePp9aNh7s7ES",
        "outputId": "5245eefd-be8a-4e3d-b5b7-ea017e8d75d1"
      },
      "execution_count": 30,
      "outputs": [
        {
          "output_type": "stream",
          "name": "stdout",
          "text": [
            "[[15 19 16]\n",
            " [23 15 25]\n",
            " [19 14 14]]\n"
          ]
        }
      ]
    },
    {
      "cell_type": "code",
      "source": [
        "print(np.subtract(a,b))"
      ],
      "metadata": {
        "colab": {
          "base_uri": "https://localhost:8080/"
        },
        "id": "ta7n8GNktKzS",
        "outputId": "4f5c0b3f-5912-4d4c-d3c8-bae6b065af6e"
      },
      "execution_count": 31,
      "outputs": [
        {
          "output_type": "stream",
          "name": "stdout",
          "text": [
            "[[-11 -19  -6]\n",
            " [ -5 -11 -11]\n",
            " [ -9  -8 -12]]\n"
          ]
        }
      ]
    },
    {
      "cell_type": "code",
      "source": [
        "print(np.multiply(a,b))"
      ],
      "metadata": {
        "colab": {
          "base_uri": "https://localhost:8080/"
        },
        "id": "pQpTLoqMtPk5",
        "outputId": "50327122-b27b-4b4b-a29a-4b3d13c7f6a3"
      },
      "execution_count": 32,
      "outputs": [
        {
          "output_type": "stream",
          "name": "stdout",
          "text": [
            "[[ 26   0  55]\n",
            " [126  26 126]\n",
            " [ 70  33  13]]\n"
          ]
        }
      ]
    },
    {
      "cell_type": "code",
      "source": [
        "print(np.divide(a,b))"
      ],
      "metadata": {
        "colab": {
          "base_uri": "https://localhost:8080/"
        },
        "id": "DcD6OX5AtRUF",
        "outputId": "03624d24-fd84-47df-f846-ae29746fc398"
      },
      "execution_count": 33,
      "outputs": [
        {
          "output_type": "stream",
          "name": "stdout",
          "text": [
            "[[0.15384615 0.         0.45454545]\n",
            " [0.64285714 0.15384615 0.38888889]\n",
            " [0.35714286 0.27272727 0.07692308]]\n"
          ]
        }
      ]
    },
    {
      "cell_type": "markdown",
      "source": [
        "#Array Manuipulation"
      ],
      "metadata": {
        "id": "_SeVDS-0tYz1"
      }
    },
    {
      "cell_type": "code",
      "source": [
        "array1 = np.random.randint(0,100,(2,3))\n",
        "print(array1)\n",
        "print(array1.shape)"
      ],
      "metadata": {
        "colab": {
          "base_uri": "https://localhost:8080/"
        },
        "id": "i8_O8bRPtba6",
        "outputId": "5aadaac6-7a7b-4557-a346-ffb438ef9c38"
      },
      "execution_count": 34,
      "outputs": [
        {
          "output_type": "stream",
          "name": "stdout",
          "text": [
            "[[95 47  2]\n",
            " [78 29 68]]\n",
            "(2, 3)\n"
          ]
        }
      ]
    },
    {
      "cell_type": "code",
      "source": [
        "#transpose\n",
        "trans = np.transpose(array1)\n",
        "print(trans)\n",
        "print(trans.shape)"
      ],
      "metadata": {
        "colab": {
          "base_uri": "https://localhost:8080/"
        },
        "id": "p7Ifwmx4tn1b",
        "outputId": "2780cc94-203b-425e-d43b-e14a663760db"
      },
      "execution_count": 35,
      "outputs": [
        {
          "output_type": "stream",
          "name": "stdout",
          "text": [
            "[[95 78]\n",
            " [47 29]\n",
            " [ 2 68]]\n",
            "(3, 2)\n"
          ]
        }
      ]
    },
    {
      "cell_type": "code",
      "source": [
        "#another method to find transpose\n",
        "trans2 = array1.T\n",
        "print(trans2)\n",
        "print(trans2.shape)"
      ],
      "metadata": {
        "colab": {
          "base_uri": "https://localhost:8080/"
        },
        "id": "g-jy_vH5t_WG",
        "outputId": "4ffb867d-d231-4374-8366-4c96a34a5f03"
      },
      "execution_count": 36,
      "outputs": [
        {
          "output_type": "stream",
          "name": "stdout",
          "text": [
            "[[95 78]\n",
            " [47 29]\n",
            " [ 2 68]]\n",
            "(3, 2)\n"
          ]
        }
      ]
    },
    {
      "cell_type": "code",
      "source": [
        "#reshaping array\n",
        "p = np.random.randint(0,100,(3,4))\n",
        "print(p)\n",
        "print(p.shape)"
      ],
      "metadata": {
        "colab": {
          "base_uri": "https://localhost:8080/"
        },
        "id": "aJMR66aFuXFN",
        "outputId": "f18cc569-4126-4058-da22-94aaae88269b"
      },
      "execution_count": 37,
      "outputs": [
        {
          "output_type": "stream",
          "name": "stdout",
          "text": [
            "[[54  1 81 20]\n",
            " [30 13 59 88]\n",
            " [87 63 42 79]]\n",
            "(3, 4)\n"
          ]
        }
      ]
    },
    {
      "cell_type": "code",
      "source": [
        "q = p.reshape(4,3)\n",
        "print(q)\n",
        "print(q.shape)"
      ],
      "metadata": {
        "colab": {
          "base_uri": "https://localhost:8080/"
        },
        "id": "2T3m8TLPuo2Z",
        "outputId": "fdc6c44f-1416-4244-fa8c-dffcb60ffeaa"
      },
      "execution_count": 38,
      "outputs": [
        {
          "output_type": "stream",
          "name": "stdout",
          "text": [
            "[[54  1 81]\n",
            " [20 30 13]\n",
            " [59 88 87]\n",
            " [63 42 79]]\n",
            "(4, 3)\n"
          ]
        }
      ]
    }
  ]
}