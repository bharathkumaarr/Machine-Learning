{
  "nbformat": 4,
  "nbformat_minor": 0,
  "metadata": {
    "colab": {
      "provenance": [],
      "authorship_tag": "ABX9TyP+0q/q2xHdC2YXAj2hZ7Ql",
      "include_colab_link": true
    },
    "kernelspec": {
      "name": "python3",
      "display_name": "Python 3"
    },
    "language_info": {
      "name": "python"
    }
  },
  "cells": [
    {
      "cell_type": "markdown",
      "metadata": {
        "id": "view-in-github",
        "colab_type": "text"
      },
      "source": [
        "<a href=\"https://colab.research.google.com/github/bharathkumaarr/Machine-Learning/blob/main/python-basics/python_basics_4.ipynb\" target=\"_parent\"><img src=\"https://colab.research.google.com/assets/colab-badge.svg\" alt=\"Open In Colab\"/></a>"
      ]
    },
    {
      "cell_type": "markdown",
      "source": [
        "#if-else"
      ],
      "metadata": {
        "id": "ss_an6PDNIZU"
      }
    },
    {
      "cell_type": "code",
      "execution_count": 1,
      "metadata": {
        "colab": {
          "base_uri": "https://localhost:8080/"
        },
        "id": "Iw2-eJfkK9BS",
        "outputId": "05571dcb-1a34-4410-8797-749977e4fe77"
      },
      "outputs": [
        {
          "output_type": "stream",
          "name": "stdout",
          "text": [
            "b is greater \n"
          ]
        }
      ],
      "source": [
        "\n",
        "a = 30\n",
        "b = 50\n",
        "if (a>b):\n",
        "  print(\"a is greater \")\n",
        "else:\n",
        "  print(\"b is greater \")\n"
      ]
    },
    {
      "cell_type": "code",
      "source": [
        "a = int(input(\"enter the first number: \"))\n",
        "b = int(input(\"enter the second numebr: \"))\n",
        "if (a>b):\n",
        "  print(\"first number is greater \")\n",
        "else:\n",
        "  print(\"second number is greater \")"
      ],
      "metadata": {
        "colab": {
          "base_uri": "https://localhost:8080/"
        },
        "id": "NThYkuskN1lo",
        "outputId": "f51d389e-0c2a-4e88-c853-dadb6b3cb745"
      },
      "execution_count": 5,
      "outputs": [
        {
          "output_type": "stream",
          "name": "stdout",
          "text": [
            "enter the first number: 24354\n",
            "enter the second numebr: 23424\n",
            "first number is greater \n"
          ]
        }
      ]
    },
    {
      "cell_type": "markdown",
      "source": [
        "#if-elif-else"
      ],
      "metadata": {
        "id": "p0NBZt4vOa1p"
      }
    },
    {
      "cell_type": "code",
      "source": [
        "a = 10\n",
        "b = 20\n",
        "c = 34\n",
        "if (b<a>c):\n",
        "  print(\"a is greater\")\n",
        "elif (a<b>c):\n",
        "  print(\"b is greater\")\n",
        "else:\n",
        "  print(\"c is greater\")"
      ],
      "metadata": {
        "colab": {
          "base_uri": "https://localhost:8080/"
        },
        "id": "7KeM3Vf0OJhO",
        "outputId": "fb7c2051-8248-4283-bba3-45dcc5e8c802"
      },
      "execution_count": 6,
      "outputs": [
        {
          "output_type": "stream",
          "name": "stdout",
          "text": [
            "c is greater\n"
          ]
        }
      ]
    },
    {
      "cell_type": "markdown",
      "source": [
        "#nested if"
      ],
      "metadata": {
        "id": "7P-3asngPETz"
      }
    },
    {
      "cell_type": "code",
      "source": [
        "a = 20\n",
        "b = 40\n",
        "c = 213\n",
        "if (a>b):\n",
        "  if (a>c):\n",
        "    print(\"a is greater\")\n",
        "  else:\n",
        "    print(\"c is greater\")\n",
        "else:\n",
        "  if (b>c):\n",
        "    print(\"b is greater\")\n",
        "  else:\n",
        "    print(\"c is greater\")\n",
        ""
      ],
      "metadata": {
        "colab": {
          "base_uri": "https://localhost:8080/"
        },
        "id": "mFCICoX2PA4U",
        "outputId": "6f149c48-92bd-4d3e-e838-41ea340a283a"
      },
      "execution_count": 8,
      "outputs": [
        {
          "output_type": "stream",
          "name": "stdout",
          "text": [
            "c is greater\n"
          ]
        }
      ]
    },
    {
      "cell_type": "code",
      "source": [],
      "metadata": {
        "id": "Ps4JuFBnPmlp"
      },
      "execution_count": null,
      "outputs": []
    }
  ]
}