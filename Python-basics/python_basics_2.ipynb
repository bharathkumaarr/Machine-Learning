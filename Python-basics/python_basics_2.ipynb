{
  "nbformat": 4,
  "nbformat_minor": 0,
  "metadata": {
    "colab": {
      "provenance": [],
      "collapsed_sections": [
        "80Bhgp4y6Vec",
        "yybeu9ua9r6H",
        "OEH6-EBN_RXN",
        "b8lxFC8_ALEL"
      ],
      "authorship_tag": "ABX9TyOzuSX1zHmgRTI67WcR6UhB",
      "include_colab_link": true
    },
    "kernelspec": {
      "name": "python3",
      "display_name": "Python 3"
    },
    "language_info": {
      "name": "python"
    }
  },
  "cells": [
    {
      "cell_type": "markdown",
      "metadata": {
        "id": "view-in-github",
        "colab_type": "text"
      },
      "source": [
        "<a href=\"https://colab.research.google.com/github/bharathkumaarr/Machine-Learning/blob/main/Python-basics/python_basics_2.ipynb\" target=\"_parent\"><img src=\"https://colab.research.google.com/assets/colab-badge.svg\" alt=\"Open In Colab\"/></a>"
      ]
    },
    {
      "cell_type": "markdown",
      "source": [
        "\n",
        "types of objects\n",
        "\n",
        "mutable & immutable objects\n",
        "\n",
        "immutable: int, float, string, bool,tuple\n",
        "\n",
        "mutable: list, set, dictionary\n",
        "\n",
        "\n",
        "\n"
      ],
      "metadata": {
        "id": "aEQuzF4Y5xV2"
      }
    },
    {
      "cell_type": "markdown",
      "source": [
        "#Lists\n",
        "\n",
        "[    ] square brackets"
      ],
      "metadata": {
        "id": "80Bhgp4y6Vec"
      }
    },
    {
      "cell_type": "code",
      "execution_count": 2,
      "metadata": {
        "colab": {
          "base_uri": "https://localhost:8080/"
        },
        "id": "zK07KFvD5Wfs",
        "outputId": "ed3f81c3-7c7e-4985-a67f-4aa41e2a0955"
      },
      "outputs": [
        {
          "output_type": "stream",
          "name": "stdout",
          "text": [
            "[1, 2, 3, 5, 6]\n"
          ]
        },
        {
          "output_type": "execute_result",
          "data": {
            "text/plain": [
              "list"
            ]
          },
          "metadata": {},
          "execution_count": 2
        }
      ],
      "source": [
        "my_list =[1,2,3,5,6]\n",
        "print(my_list)\n",
        "type(my_list)"
      ]
    },
    {
      "cell_type": "markdown",
      "source": [
        "***LISTS CAN HAVE MULTIPLE DATATYPES***"
      ],
      "metadata": {
        "id": "DIqiS0Pv6tuK"
      }
    },
    {
      "cell_type": "code",
      "source": [
        "list1 = [145, \"sgretsrd\",23.45, True]\n",
        "print(list1)"
      ],
      "metadata": {
        "colab": {
          "base_uri": "https://localhost:8080/"
        },
        "id": "uI1mmZoB6it6",
        "outputId": "a28141f0-ce20-4f81-e440-7c144b81eb0a"
      },
      "execution_count": 3,
      "outputs": [
        {
          "output_type": "stream",
          "name": "stdout",
          "text": [
            "[145, 'sgretsrd', 23.45, True]\n"
          ]
        }
      ]
    },
    {
      "cell_type": "markdown",
      "source": [
        "LISTS ARE MUTABLE = CHANGEABLE"
      ],
      "metadata": {
        "id": "f1HFv8D87OTE"
      }
    },
    {
      "cell_type": "code",
      "source": [
        "list1 = [145, \"sgretsrd\",23.45, True]\n",
        "list1.append(\"dsg\")\n",
        "print(list1)"
      ],
      "metadata": {
        "colab": {
          "base_uri": "https://localhost:8080/"
        },
        "id": "QXlyElm47JSi",
        "outputId": "b28d5fa2-926a-4a6a-a888-dd4c6b145e96"
      },
      "execution_count": 8,
      "outputs": [
        {
          "output_type": "stream",
          "name": "stdout",
          "text": [
            "[145, 'sgretsrd', 23.45, True, 'dsg']\n"
          ]
        }
      ]
    },
    {
      "cell_type": "code",
      "source": [
        "print(list1[3])"
      ],
      "metadata": {
        "colab": {
          "base_uri": "https://localhost:8080/"
        },
        "id": "qKPZXStQ7ako",
        "outputId": "4aa5601f-4928-4a88-cfb9-0a427c2a17e3"
      },
      "execution_count": 9,
      "outputs": [
        {
          "output_type": "stream",
          "name": "stdout",
          "text": [
            "True\n"
          ]
        }
      ]
    },
    {
      "cell_type": "code",
      "source": [
        "print(list1[2])"
      ],
      "metadata": {
        "colab": {
          "base_uri": "https://localhost:8080/"
        },
        "id": "pqkZ_RRq7xrw",
        "outputId": "c6865281-7f13-467f-ec1c-afd0c84eb29c"
      },
      "execution_count": 10,
      "outputs": [
        {
          "output_type": "stream",
          "name": "stdout",
          "text": [
            "23.45\n"
          ]
        }
      ]
    },
    {
      "cell_type": "code",
      "source": [
        "print(list1[0])"
      ],
      "metadata": {
        "colab": {
          "base_uri": "https://localhost:8080/"
        },
        "id": "yBRNDS1O71Il",
        "outputId": "c917d95e-f33f-4fb3-8de7-bf87ed6e3f79"
      },
      "execution_count": 11,
      "outputs": [
        {
          "output_type": "stream",
          "name": "stdout",
          "text": [
            "145\n"
          ]
        }
      ]
    },
    {
      "cell_type": "markdown",
      "source": [
        "LISTS ALLOWS DUPLICATE VALUES"
      ],
      "metadata": {
        "id": "qmuy_EZa77MQ"
      }
    },
    {
      "cell_type": "code",
      "source": [
        "list1 = [145, \"sgretsrd\",23.45, True]\n",
        "list1.append(23.45)\n",
        "print(list1)"
      ],
      "metadata": {
        "colab": {
          "base_uri": "https://localhost:8080/"
        },
        "id": "hQ_034pl735O",
        "outputId": "c4f1d302-49a8-41d2-b4e1-2eadd269ecd4"
      },
      "execution_count": 14,
      "outputs": [
        {
          "output_type": "stream",
          "name": "stdout",
          "text": [
            "[145, 'sgretsrd', 23.45, True, 23.45]\n"
          ]
        }
      ]
    },
    {
      "cell_type": "markdown",
      "source": [
        "empty lists"
      ],
      "metadata": {
        "id": "JmsnL8cr8WHK"
      }
    },
    {
      "cell_type": "code",
      "source": [
        "list2 = []\n",
        "print(list2)\n",
        "list2.append(23)\n",
        "print(list2)\n",
        "list2.append(2355)\n",
        "print(list2)"
      ],
      "metadata": {
        "colab": {
          "base_uri": "https://localhost:8080/"
        },
        "id": "ucEyMmr98LYh",
        "outputId": "a9d7262b-a9b1-4b4d-f4fc-9baf06749d26"
      },
      "execution_count": 17,
      "outputs": [
        {
          "output_type": "stream",
          "name": "stdout",
          "text": [
            "[]\n",
            "[23]\n",
            "[23, 2355]\n"
          ]
        }
      ]
    },
    {
      "cell_type": "markdown",
      "source": [
        "DELETE AN ITEM IN LITSTS"
      ],
      "metadata": {
        "id": "GfH5fwpc8tQK"
      }
    },
    {
      "cell_type": "code",
      "source": [
        "list3 = [145, 'sgretsrd', 23.45, True, 2.3645]\n",
        "print(list3)\n",
        "del list3[2]\n",
        "print(list3)"
      ],
      "metadata": {
        "colab": {
          "base_uri": "https://localhost:8080/"
        },
        "id": "zjZaZGl38jL9",
        "outputId": "ddf2fb39-cf50-4bb4-c121-304a883bf099"
      },
      "execution_count": 19,
      "outputs": [
        {
          "output_type": "stream",
          "name": "stdout",
          "text": [
            "[145, 'sgretsrd', 23.45, True, 2.3645]\n",
            "[145, 'sgretsrd', True, 2.3645]\n"
          ]
        }
      ]
    },
    {
      "cell_type": "markdown",
      "source": [
        "JOIN TWO LISTS"
      ],
      "metadata": {
        "id": "PYfQ3R0U9aRa"
      }
    },
    {
      "cell_type": "code",
      "source": [
        "list4 = [1,2, 3, 444]\n",
        "list5 = [\"dfb\",\"adg\",456]\n",
        "print(list4+list5)"
      ],
      "metadata": {
        "colab": {
          "base_uri": "https://localhost:8080/"
        },
        "id": "RDC1j4_B9F-H",
        "outputId": "a9ad9cc9-efa3-44d3-94e0-242da0fde3da"
      },
      "execution_count": 21,
      "outputs": [
        {
          "output_type": "stream",
          "name": "stdout",
          "text": [
            "[1, 2, 3, 444, 'dfb', 'adg', 456]\n"
          ]
        }
      ]
    },
    {
      "cell_type": "markdown",
      "source": [
        "#Tuple\n",
        "( ) Paranthesis"
      ],
      "metadata": {
        "id": "yybeu9ua9r6H"
      }
    },
    {
      "cell_type": "code",
      "source": [
        "tuple1 = (2,3,4)\n",
        "print(tuple1)\n",
        "type(tuple1)"
      ],
      "metadata": {
        "colab": {
          "base_uri": "https://localhost:8080/"
        },
        "id": "wTIuyggR9ukq",
        "outputId": "abb2e2a9-a810-436e-bcc4-a6ee1406d193"
      },
      "execution_count": 22,
      "outputs": [
        {
          "output_type": "stream",
          "name": "stdout",
          "text": [
            "(2, 3, 4)\n"
          ]
        },
        {
          "output_type": "execute_result",
          "data": {
            "text/plain": [
              "tuple"
            ]
          },
          "metadata": {},
          "execution_count": 22
        }
      ]
    },
    {
      "cell_type": "markdown",
      "source": [
        "ALLOWS MULTIPLE DATATYPES"
      ],
      "metadata": {
        "id": "8ESGlGEy-Dj3"
      }
    },
    {
      "cell_type": "code",
      "source": [
        "tuple2 = (234,24242,2424424242, \"seta\",\"machine learning\", True)\n",
        "print(tuple2)"
      ],
      "metadata": {
        "colab": {
          "base_uri": "https://localhost:8080/"
        },
        "id": "xXt39pfY99wv",
        "outputId": "d237be9f-dbce-4af8-e32e-68301b2882d7"
      },
      "execution_count": 26,
      "outputs": [
        {
          "output_type": "stream",
          "name": "stdout",
          "text": [
            "(234, 24242, 2424424242, 'seta', 'machine learning', True)\n"
          ]
        }
      ]
    },
    {
      "cell_type": "markdown",
      "source": [
        "Converting list to tuple"
      ],
      "metadata": {
        "id": "99Uhyklv-WJu"
      }
    },
    {
      "cell_type": "code",
      "source": [
        "list1 = [1,2,3, False, \"sgsdf\"]\n",
        "print(list1)\n",
        "newtuple = tuple(list1)\n",
        "print(newtuple)"
      ],
      "metadata": {
        "colab": {
          "base_uri": "https://localhost:8080/"
        },
        "id": "GETYyIX3-LLK",
        "outputId": "b985e8f4-f2ad-46bc-e057-e241dd158cdb"
      },
      "execution_count": 28,
      "outputs": [
        {
          "output_type": "stream",
          "name": "stdout",
          "text": [
            "[1, 2, 3, False, 'sgsdf']\n",
            "(1, 2, 3, False, 'sgsdf')\n"
          ]
        }
      ]
    },
    {
      "cell_type": "markdown",
      "source": [
        "INDEXING"
      ],
      "metadata": {
        "id": "SYX_RU35-qUm"
      }
    },
    {
      "cell_type": "code",
      "source": [
        "print(newtuple[3])"
      ],
      "metadata": {
        "colab": {
          "base_uri": "https://localhost:8080/"
        },
        "id": "jlpFeg_G-c5-",
        "outputId": "dce552b3-32f1-43be-8685-13dbba6dd541"
      },
      "execution_count": 29,
      "outputs": [
        {
          "output_type": "stream",
          "name": "stdout",
          "text": [
            "False\n"
          ]
        }
      ]
    },
    {
      "cell_type": "markdown",
      "source": [
        "TUPLES ARE IMMUTABLE = UNCHANGEABLE"
      ],
      "metadata": {
        "id": "K25L1BNZ-0wU"
      }
    },
    {
      "cell_type": "code",
      "source": [
        "newtuple = newtuple.append(4)"
      ],
      "metadata": {
        "colab": {
          "base_uri": "https://localhost:8080/",
          "height": 179
        },
        "id": "eiezdE0m-wiS",
        "outputId": "39882f33-2c03-4eb8-d226-00fec2498798"
      },
      "execution_count": 30,
      "outputs": [
        {
          "output_type": "error",
          "ename": "AttributeError",
          "evalue": "ignored",
          "traceback": [
            "\u001b[0;31m---------------------------------------------------------------------------\u001b[0m",
            "\u001b[0;31mAttributeError\u001b[0m                            Traceback (most recent call last)",
            "\u001b[0;32m<ipython-input-30-ec482928334e>\u001b[0m in \u001b[0;36m<cell line: 1>\u001b[0;34m()\u001b[0m\n\u001b[0;32m----> 1\u001b[0;31m \u001b[0mnewtuple\u001b[0m \u001b[0;34m=\u001b[0m \u001b[0mnewtuple\u001b[0m\u001b[0;34m.\u001b[0m\u001b[0mappend\u001b[0m\u001b[0;34m(\u001b[0m\u001b[0;36m4\u001b[0m\u001b[0;34m)\u001b[0m\u001b[0;34m\u001b[0m\u001b[0;34m\u001b[0m\u001b[0m\n\u001b[0m",
            "\u001b[0;31mAttributeError\u001b[0m: 'tuple' object has no attribute 'append'"
          ]
        }
      ]
    },
    {
      "cell_type": "code",
      "source": [
        "print(len(newtuple))"
      ],
      "metadata": {
        "colab": {
          "base_uri": "https://localhost:8080/"
        },
        "id": "0KNOK2Zg_F8F",
        "outputId": "ecb8dd02-819c-4983-f61c-12a1d6967893"
      },
      "execution_count": 31,
      "outputs": [
        {
          "output_type": "stream",
          "name": "stdout",
          "text": [
            "5\n"
          ]
        }
      ]
    },
    {
      "cell_type": "code",
      "source": [],
      "metadata": {
        "id": "4FafQpjc_N0q"
      },
      "execution_count": null,
      "outputs": []
    },
    {
      "cell_type": "markdown",
      "source": [
        "#Sets\n",
        "{ }"
      ],
      "metadata": {
        "id": "OEH6-EBN_RXN"
      }
    },
    {
      "cell_type": "code",
      "source": [
        "set1 = {1,2,3,34,67}\n",
        "print(set1)\n",
        "type(set1)"
      ],
      "metadata": {
        "colab": {
          "base_uri": "https://localhost:8080/"
        },
        "id": "PWk-tTGO_Ugh",
        "outputId": "4b836cd5-8e76-42b0-c6e5-18199cac4f8f"
      },
      "execution_count": 33,
      "outputs": [
        {
          "output_type": "stream",
          "name": "stdout",
          "text": [
            "{1, 2, 3, 67, 34}\n"
          ]
        },
        {
          "output_type": "execute_result",
          "data": {
            "text/plain": [
              "set"
            ]
          },
          "metadata": {},
          "execution_count": 33
        }
      ]
    },
    {
      "cell_type": "markdown",
      "source": [
        "NO INDEXING"
      ],
      "metadata": {
        "id": "q6If9G6T_jOK"
      }
    },
    {
      "cell_type": "code",
      "source": [
        "print(set1[2])"
      ],
      "metadata": {
        "colab": {
          "base_uri": "https://localhost:8080/",
          "height": 179
        },
        "id": "Urxbax7S_czl",
        "outputId": "9fb10361-c45f-4d08-f06b-e8e8f96d8f80"
      },
      "execution_count": 34,
      "outputs": [
        {
          "output_type": "error",
          "ename": "TypeError",
          "evalue": "ignored",
          "traceback": [
            "\u001b[0;31m---------------------------------------------------------------------------\u001b[0m",
            "\u001b[0;31mTypeError\u001b[0m                                 Traceback (most recent call last)",
            "\u001b[0;32m<ipython-input-34-012ecff96aad>\u001b[0m in \u001b[0;36m<cell line: 1>\u001b[0;34m()\u001b[0m\n\u001b[0;32m----> 1\u001b[0;31m \u001b[0mprint\u001b[0m\u001b[0;34m(\u001b[0m\u001b[0mset1\u001b[0m\u001b[0;34m[\u001b[0m\u001b[0;36m2\u001b[0m\u001b[0;34m]\u001b[0m\u001b[0;34m)\u001b[0m\u001b[0;34m\u001b[0m\u001b[0;34m\u001b[0m\u001b[0m\n\u001b[0m",
            "\u001b[0;31mTypeError\u001b[0m: 'set' object is not subscriptable"
          ]
        }
      ]
    },
    {
      "cell_type": "markdown",
      "source": [
        "LIST TO SET"
      ],
      "metadata": {
        "id": "A8cueEEw_quX"
      }
    },
    {
      "cell_type": "code",
      "source": [
        "list12 = [234,5, 90.0,False,\"sg\"]\n",
        "print(set(list12))"
      ],
      "metadata": {
        "colab": {
          "base_uri": "https://localhost:8080/"
        },
        "id": "3dLiyQLu_ofl",
        "outputId": "ba473e88-09a4-43b8-bfc4-fa8ef46ec151"
      },
      "execution_count": 37,
      "outputs": [
        {
          "output_type": "stream",
          "name": "stdout",
          "text": [
            "{False, 'sg', 5, 234, 90.0}\n"
          ]
        }
      ]
    },
    {
      "cell_type": "markdown",
      "source": [
        "NO DUPLICATE VALUES ALLOWED"
      ],
      "metadata": {
        "id": "rM0BfQw3_-G_"
      }
    },
    {
      "cell_type": "code",
      "source": [
        "set1 = {1,2,3,4,4,4,4,4,4,4}\n",
        "print(set1)"
      ],
      "metadata": {
        "colab": {
          "base_uri": "https://localhost:8080/"
        },
        "id": "bgi2ffXa_3aW",
        "outputId": "d047a8cd-2b6c-4d5e-d1cd-602a22ccbf34"
      },
      "execution_count": 38,
      "outputs": [
        {
          "output_type": "stream",
          "name": "stdout",
          "text": [
            "{1, 2, 3, 4}\n"
          ]
        }
      ]
    },
    {
      "cell_type": "markdown",
      "source": [
        "#DICTIONARIES\n",
        "key-value Pairs"
      ],
      "metadata": {
        "id": "b8lxFC8_ALEL"
      }
    },
    {
      "cell_type": "code",
      "source": [
        "dict1 = {'name': 'david', \"id\":2435, 'age' : 50}\n",
        "print(dict1)\n",
        "type(dict1)"
      ],
      "metadata": {
        "colab": {
          "base_uri": "https://localhost:8080/"
        },
        "id": "hOWUJ_ynARFX",
        "outputId": "81ad03d1-4abd-4a92-b0f1-0cbc44113883"
      },
      "execution_count": 40,
      "outputs": [
        {
          "output_type": "stream",
          "name": "stdout",
          "text": [
            "{'name': 'david', 'id': 2435, 'age': 50}\n"
          ]
        },
        {
          "output_type": "execute_result",
          "data": {
            "text/plain": [
              "dict"
            ]
          },
          "metadata": {},
          "execution_count": 40
        }
      ]
    },
    {
      "cell_type": "code",
      "source": [
        "print(dict1['name'])\n",
        "print(dict1['age'])\n",
        "print(dict1['id'])\n",
        "\n"
      ],
      "metadata": {
        "colab": {
          "base_uri": "https://localhost:8080/"
        },
        "id": "uCcCHMxBAi_j",
        "outputId": "b698dd01-6b3c-43e8-c6f2-31390e9885ca"
      },
      "execution_count": 43,
      "outputs": [
        {
          "output_type": "stream",
          "name": "stdout",
          "text": [
            "david\n",
            "50\n",
            "2435\n"
          ]
        }
      ]
    },
    {
      "cell_type": "markdown",
      "source": [
        "NO DUPLICATE VALUES"
      ],
      "metadata": {
        "id": "ehxUwjL5A5lR"
      }
    },
    {
      "cell_type": "code",
      "source": [
        "dict2 = {'name': 'david', \"id\":2435, 'age' : 50,'name': 'david', \"id\":2435, 'age' : 50}\n",
        "print(dict2)"
      ],
      "metadata": {
        "colab": {
          "base_uri": "https://localhost:8080/"
        },
        "id": "KyGP53NDAsuJ",
        "outputId": "d95c56c2-e34a-4d6f-fbbc-4301dff26966"
      },
      "execution_count": 45,
      "outputs": [
        {
          "output_type": "stream",
          "name": "stdout",
          "text": [
            "{'name': 'david', 'id': 2435, 'age': 50}\n"
          ]
        }
      ]
    }
  ]
}