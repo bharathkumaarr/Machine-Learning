{
  "nbformat": 4,
  "nbformat_minor": 0,
  "metadata": {
    "colab": {
      "provenance": [],
      "authorship_tag": "ABX9TyPjN3HUnlKG5SeAw3KWO0ZR",
      "include_colab_link": true
    },
    "kernelspec": {
      "name": "python3",
      "display_name": "Python 3"
    },
    "language_info": {
      "name": "python"
    }
  },
  "cells": [
    {
      "cell_type": "markdown",
      "metadata": {
        "id": "view-in-github",
        "colab_type": "text"
      },
      "source": [
        "<a href=\"https://colab.research.google.com/github/bharathkumaarr/Machine-Learning/blob/main/Python-basics/python_basics_6.ipynb\" target=\"_parent\"><img src=\"https://colab.research.google.com/assets/colab-badge.svg\" alt=\"Open In Colab\"/></a>"
      ]
    },
    {
      "cell_type": "markdown",
      "source": [
        "#Functions\n",
        "*Block of code that can be re-used in a program*"
      ],
      "metadata": {
        "id": "YiQj9nBK9lLx"
      }
    },
    {
      "cell_type": "markdown",
      "source": [
        "FACTORIAL OF A NUMBER:\n",
        "\n",
        "Product of all the positive integers less than or equal to given number\n",
        "\n",
        "*(Normal program without functions)*"
      ],
      "metadata": {
        "id": "VXZx3JOTNBSl"
      }
    },
    {
      "cell_type": "code",
      "execution_count": 20,
      "metadata": {
        "id": "c_wU8ZWHljZO",
        "colab": {
          "base_uri": "https://localhost:8080/"
        },
        "outputId": "83f2b71b-ee60-4ce9-9f9f-6da2b29df5f8"
      },
      "outputs": [
        {
          "output_type": "stream",
          "name": "stdout",
          "text": [
            "Enter a number to find the factorial: 6\n",
            "The factorial of 6  is  720\n"
          ]
        }
      ],
      "source": [
        "number = int(input(\"Enter a number to find the factorial: \"))\n",
        "factorial = 1\n",
        "if (number ==0):\n",
        "  print(\"The factorial of the number is \", factorial)\n",
        "else:\n",
        "  for i in range(1,number+1):\n",
        "    factorial = factorial * i\n",
        "  print(\"The factorial of\",number, \" is \", factorial)"
      ]
    },
    {
      "cell_type": "markdown",
      "source": [
        "*(Same factorial code but using functions)*"
      ],
      "metadata": {
        "id": "9eAzHX2ZSmAH"
      }
    },
    {
      "cell_type": "code",
      "source": [
        "def factorial_function(number):\n",
        "  factorial = 1\n",
        "  if (number ==0):\n",
        "    return factorial\n",
        "  else:\n",
        "    for i in range(1,number+1):\n",
        "      factorial = factorial * i\n",
        "    return factorial\n",
        "\n",
        "\n",
        "#num = int(input(\"Enter a number to find the factorial: \"))\n",
        "print(factorial_function(5))\n",
        "print(factorial_function(6))\n",
        "print(factorial_function(7))"
      ],
      "metadata": {
        "colab": {
          "base_uri": "https://localhost:8080/"
        },
        "id": "EMfINydbQ8XH",
        "outputId": "38975c00-676e-4e1a-8aa4-c52f92111461"
      },
      "execution_count": 21,
      "outputs": [
        {
          "output_type": "stream",
          "name": "stdout",
          "text": [
            "120\n",
            "720\n",
            "5040\n"
          ]
        }
      ]
    },
    {
      "cell_type": "code",
      "source": [
        "num = int(input(\"Enter a number to find the factorial: \"))\n",
        "print(\"The factorial of\", num, \"is \", factorial_function(num))"
      ],
      "metadata": {
        "colab": {
          "base_uri": "https://localhost:8080/"
        },
        "id": "bOera4bjTCHx",
        "outputId": "64d54859-c37f-40af-cf77-dea85edf976b"
      },
      "execution_count": 22,
      "outputs": [
        {
          "output_type": "stream",
          "name": "stdout",
          "text": [
            "Enter a number to find the factorial: 5\n",
            "The factorial of 5 is  120\n"
          ]
        }
      ]
    }
  ]
}