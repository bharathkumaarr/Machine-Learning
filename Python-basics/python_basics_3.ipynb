{
  "nbformat": 4,
  "nbformat_minor": 0,
  "metadata": {
    "colab": {
      "provenance": [],
      "authorship_tag": "ABX9TyNfqH9abW6+lWFILVoDCQQu",
      "include_colab_link": true
    },
    "kernelspec": {
      "name": "python3",
      "display_name": "Python 3"
    },
    "language_info": {
      "name": "python"
    }
  },
  "cells": [
    {
      "cell_type": "markdown",
      "metadata": {
        "id": "view-in-github",
        "colab_type": "text"
      },
      "source": [
        "<a href=\"https://colab.research.google.com/github/bharathkumaarr/Machine-Learning/blob/main/Python-basics/python_basics_3.ipynb\" target=\"_parent\"><img src=\"https://colab.research.google.com/assets/colab-badge.svg\" alt=\"Open In Colab\"/></a>"
      ]
    },
    {
      "cell_type": "markdown",
      "source": [
        "#OPERATORS\n",
        "\n",
        "arithmetic\n",
        "assignment\n",
        "comparison\n",
        "logical\n",
        "identity\n",
        "membership"
      ],
      "metadata": {
        "id": "6ZIHnkFNCaZa"
      }
    },
    {
      "cell_type": "markdown",
      "source": [
        "#ARITHMETIC OPERATORS"
      ],
      "metadata": {
        "id": "vN7T4g7qDpoh"
      }
    },
    {
      "cell_type": "code",
      "execution_count": 8,
      "metadata": {
        "colab": {
          "base_uri": "https://localhost:8080/"
        },
        "id": "-31lcdO7CWWT",
        "outputId": "98c566cb-842e-4362-b264-978e296a7e99"
      },
      "outputs": [
        {
          "output_type": "stream",
          "name": "stdout",
          "text": [
            "addition =  30\n",
            "subtraction =  10\n",
            "product =  200\n",
            "quotient =  2.0\n",
            "remainder =  0\n",
            "exponent =  10240000000000\n"
          ]
        }
      ],
      "source": [
        "num1 = 20\n",
        "num2 = 10\n",
        "\n",
        "#addition\n",
        "sum = num1 + num2\n",
        "#difference\n",
        "sub = num1 - num2\n",
        "#product\n",
        "pro = num1*num2\n",
        "#quotient\n",
        "q = num1/num2\n",
        "#remainder\n",
        "r = num1%num2\n",
        "#exponent\n",
        "e = num1**num2\n",
        "print(\"addition = \",sum)\n",
        "print(\"subtraction = \",sub)\n",
        "print(\"product = \",pro)\n",
        "print(\"quotient = \",q)\n",
        "print(\"remainder = \",r)\n",
        "print(\"exponent = \",e)"
      ]
    },
    {
      "cell_type": "markdown",
      "source": [
        "##ASSIGNMENT OPERATORS\n",
        "\n",
        "\n",
        "-=\n",
        "+=\n",
        "\n",
        "*=\n",
        "/=\n",
        "%="
      ],
      "metadata": {
        "id": "WgRjOA8fF6ht"
      }
    },
    {
      "cell_type": "markdown",
      "source": [],
      "metadata": {
        "id": "6ybIywLvGbZY"
      }
    },
    {
      "cell_type": "code",
      "source": [
        "a = 5\n",
        "print(a)"
      ],
      "metadata": {
        "colab": {
          "base_uri": "https://localhost:8080/"
        },
        "id": "bznOhBZaEAKQ",
        "outputId": "9c7c9724-d48d-4ad4-a401-c2176b9760d2"
      },
      "execution_count": 9,
      "outputs": [
        {
          "output_type": "stream",
          "name": "stdout",
          "text": [
            "5\n"
          ]
        }
      ]
    },
    {
      "cell_type": "code",
      "source": [
        "a = 4\n",
        "a+= 4 #a = a+4\n",
        "print(a)"
      ],
      "metadata": {
        "colab": {
          "base_uri": "https://localhost:8080/"
        },
        "id": "BSl9mZWIGEYd",
        "outputId": "3ab030e3-230b-471c-9c88-b9590bb73e3e"
      },
      "execution_count": 12,
      "outputs": [
        {
          "output_type": "stream",
          "name": "stdout",
          "text": [
            "8\n"
          ]
        }
      ]
    },
    {
      "cell_type": "code",
      "source": [
        "b = 5\n",
        "b-=2 # b = b -2\n",
        "print(b)"
      ],
      "metadata": {
        "colab": {
          "base_uri": "https://localhost:8080/"
        },
        "id": "EUCSnvjpGM75",
        "outputId": "b2acc3ef-7eb5-4f6e-9fca-3d983cd582cd"
      },
      "execution_count": 13,
      "outputs": [
        {
          "output_type": "stream",
          "name": "stdout",
          "text": [
            "3\n"
          ]
        }
      ]
    },
    {
      "cell_type": "code",
      "source": [],
      "metadata": {
        "id": "R7GegX8SGX8l"
      },
      "execution_count": null,
      "outputs": []
    },
    {
      "cell_type": "markdown",
      "source": [
        "#COMPARSION OPERATORS"
      ],
      "metadata": {
        "id": "TgHyy4PWHBma"
      }
    },
    {
      "cell_type": "code",
      "source": [
        "a = 5\n",
        "b=10\n",
        "print(a==b)\n"
      ],
      "metadata": {
        "colab": {
          "base_uri": "https://localhost:8080/"
        },
        "id": "J1SRuWlNHDqL",
        "outputId": "1780b591-981c-4d14-84a8-edb0c4b04058"
      },
      "execution_count": 14,
      "outputs": [
        {
          "output_type": "stream",
          "name": "stdout",
          "text": [
            "False\n"
          ]
        }
      ]
    },
    {
      "cell_type": "code",
      "source": [
        "print(a<=b)"
      ],
      "metadata": {
        "colab": {
          "base_uri": "https://localhost:8080/"
        },
        "id": "Oh6exRrvHMHe",
        "outputId": "f7d2b051-47fd-4605-9ff1-ebdd5d181bce"
      },
      "execution_count": 15,
      "outputs": [
        {
          "output_type": "stream",
          "name": "stdout",
          "text": [
            "True\n"
          ]
        }
      ]
    },
    {
      "cell_type": "code",
      "source": [
        "print(a!=b)"
      ],
      "metadata": {
        "colab": {
          "base_uri": "https://localhost:8080/"
        },
        "id": "nYs22I_GHP3l",
        "outputId": "7bf2085b-318e-4986-ab9f-ca0ff6c4af2f"
      },
      "execution_count": 16,
      "outputs": [
        {
          "output_type": "stream",
          "name": "stdout",
          "text": [
            "True\n"
          ]
        }
      ]
    },
    {
      "cell_type": "code",
      "source": [
        "print(a>=b)"
      ],
      "metadata": {
        "colab": {
          "base_uri": "https://localhost:8080/"
        },
        "id": "1R4uIi6rHRry",
        "outputId": "8f6c1cbd-7a5a-4350-df3d-e067efe76e9b"
      },
      "execution_count": 17,
      "outputs": [
        {
          "output_type": "stream",
          "name": "stdout",
          "text": [
            "False\n"
          ]
        }
      ]
    },
    {
      "cell_type": "markdown",
      "source": [
        "#LOGICAL OPERATORS\n",
        "\n",
        "and or not"
      ],
      "metadata": {
        "id": "GEEkVxm3HasK"
      }
    },
    {
      "cell_type": "code",
      "source": [
        "a = 10\n",
        "print(a>2 and a>5)"
      ],
      "metadata": {
        "colab": {
          "base_uri": "https://localhost:8080/"
        },
        "id": "0PQuK91zHc1Y",
        "outputId": "9abe4993-5dd2-4798-ce06-8eb63ce4825b"
      },
      "execution_count": 21,
      "outputs": [
        {
          "output_type": "stream",
          "name": "stdout",
          "text": [
            "True\n"
          ]
        }
      ]
    },
    {
      "cell_type": "code",
      "source": [
        "print(a>2 or a>5)"
      ],
      "metadata": {
        "colab": {
          "base_uri": "https://localhost:8080/"
        },
        "id": "WV3o7AMTHxOB",
        "outputId": "757d8586-04bd-43cf-bada-ee155483de6b"
      },
      "execution_count": 23,
      "outputs": [
        {
          "output_type": "stream",
          "name": "stdout",
          "text": [
            "True\n"
          ]
        }
      ]
    },
    {
      "cell_type": "code",
      "source": [
        "print(not(a>2 and a>5))"
      ],
      "metadata": {
        "colab": {
          "base_uri": "https://localhost:8080/"
        },
        "id": "tGuC6lOpH6fu",
        "outputId": "202f2038-1bb2-4f41-ad31-6dfa269e2357"
      },
      "execution_count": 24,
      "outputs": [
        {
          "output_type": "stream",
          "name": "stdout",
          "text": [
            "False\n"
          ]
        }
      ]
    },
    {
      "cell_type": "markdown",
      "source": [
        "#IDENTITY OPERATORS\n",
        "is,  \n",
        "is not"
      ],
      "metadata": {
        "id": "TPpyibzpIJML"
      }
    },
    {
      "cell_type": "code",
      "source": [
        "x = 5\n",
        "y=10\n",
        "print(x is y)"
      ],
      "metadata": {
        "colab": {
          "base_uri": "https://localhost:8080/"
        },
        "id": "7-xF1u09IMy6",
        "outputId": "83e6343c-1541-4f8f-c922-5b1bed0d7994"
      },
      "execution_count": 25,
      "outputs": [
        {
          "output_type": "stream",
          "name": "stdout",
          "text": [
            "False\n"
          ]
        }
      ]
    },
    {
      "cell_type": "code",
      "source": [
        "x = 5\n",
        "y=10\n",
        "print(x is not y)"
      ],
      "metadata": {
        "colab": {
          "base_uri": "https://localhost:8080/"
        },
        "id": "48J00T2qIXm1",
        "outputId": "cb212ad3-a95a-4210-c01e-c5f70e2ed8a6"
      },
      "execution_count": 26,
      "outputs": [
        {
          "output_type": "stream",
          "name": "stdout",
          "text": [
            "True\n"
          ]
        }
      ]
    },
    {
      "cell_type": "markdown",
      "source": [
        "#MEMBERSHIP OPERATORS\n",
        "in, not in"
      ],
      "metadata": {
        "id": "Aeu7DxQ1Idm8"
      }
    },
    {
      "cell_type": "code",
      "source": [
        "a = 5\n",
        "b = 10\n",
        "\n",
        "c = [1,2,3,4,5]\n",
        "print(a in c)\n",
        "print(b in c)\n",
        "print(a not in c)\n",
        "print(b not in c)"
      ],
      "metadata": {
        "colab": {
          "base_uri": "https://localhost:8080/"
        },
        "id": "jPUFvYQcIafN",
        "outputId": "3b7858c4-d23e-4548-be40-fd0a531fbc39"
      },
      "execution_count": 27,
      "outputs": [
        {
          "output_type": "stream",
          "name": "stdout",
          "text": [
            "True\n",
            "False\n",
            "False\n",
            "True\n"
          ]
        }
      ]
    }
  ]
}