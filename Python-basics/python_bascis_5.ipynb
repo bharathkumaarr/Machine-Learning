{
  "nbformat": 4,
  "nbformat_minor": 0,
  "metadata": {
    "colab": {
      "provenance": [],
      "authorship_tag": "ABX9TyM5Kfsr08QCtyOZZTZmMXVu",
      "include_colab_link": true
    },
    "kernelspec": {
      "name": "python3",
      "display_name": "Python 3"
    },
    "language_info": {
      "name": "python"
    }
  },
  "cells": [
    {
      "cell_type": "markdown",
      "metadata": {
        "id": "view-in-github",
        "colab_type": "text"
      },
      "source": [
        "<a href=\"https://colab.research.google.com/github/bharathkumaarr/Machine-Learning/blob/main/Python-basics/python_bascis_5.ipynb\" target=\"_parent\"><img src=\"https://colab.research.google.com/assets/colab-badge.svg\" alt=\"Open In Colab\"/></a>"
      ]
    },
    {
      "cell_type": "markdown",
      "source": [
        "#for loop\n",
        "when you're SURE about the number of times the action has to be executed"
      ],
      "metadata": {
        "id": "v2xv6ojthAKO"
      }
    },
    {
      "cell_type": "code",
      "execution_count": 2,
      "metadata": {
        "colab": {
          "base_uri": "https://localhost:8080/"
        },
        "id": "ElRSAXpCSz4E",
        "outputId": "c2ff0ba0-054b-40af-f7b8-d4608c0c66a8"
      },
      "outputs": [
        {
          "name": "stdout",
          "output_type": "stream",
          "text": [
            "enter the price of laptop: 40000\n"
          ]
        }
      ],
      "source": [
        "laptop1 = int(input(\"enter the price of laptop: \"))"
      ]
    },
    {
      "cell_type": "code",
      "source": [
        "for i in range(5):  #0,1,2,3,4\n",
        "  laptop_price = int(input(\"enter the price of the laptop: \"))"
      ],
      "metadata": {
        "colab": {
          "base_uri": "https://localhost:8080/"
        },
        "id": "DQIPkRZLhR-a",
        "outputId": "6710c964-186a-49b4-8ad3-19a832abdc18"
      },
      "execution_count": 6,
      "outputs": [
        {
          "name": "stdout",
          "output_type": "stream",
          "text": [
            "enter the price of the laptop: 45000\n",
            "enter the price of the laptop: 60000\n",
            "enter the price of the laptop: 40000\n",
            "enter the price of the laptop: 100000\n",
            "enter the price of the laptop: 80000\n"
          ]
        }
      ]
    },
    {
      "cell_type": "code",
      "source": [
        "numbers_list = [10,20,35,60]\n",
        "for i in range(len(numbers_list)):\n",
        "  print(numbers_list[i])"
      ],
      "metadata": {
        "colab": {
          "base_uri": "https://localhost:8080/"
        },
        "id": "3A3qwlR7h3yh",
        "outputId": "e7736145-cb5f-49ba-ce6c-0cba35e81fbf"
      },
      "execution_count": 9,
      "outputs": [
        {
          "output_type": "stream",
          "name": "stdout",
          "text": [
            "10\n",
            "20\n",
            "35\n",
            "60\n"
          ]
        }
      ]
    },
    {
      "cell_type": "code",
      "source": [
        "numbers_list = [10,20,35,60]\n",
        "for i in numbers_list:\n",
        "  print(i)"
      ],
      "metadata": {
        "colab": {
          "base_uri": "https://localhost:8080/"
        },
        "id": "V54jLpwkiliS",
        "outputId": "2e03439f-c0e2-4696-d8db-2f2f9ee74d94"
      },
      "execution_count": 11,
      "outputs": [
        {
          "output_type": "stream",
          "name": "stdout",
          "text": [
            "10\n",
            "20\n",
            "35\n",
            "60\n"
          ]
        }
      ]
    },
    {
      "cell_type": "markdown",
      "source": [
        "#while loop\n",
        "\n",
        " when you're NOT SURE about the number of times the action has to be executed"
      ],
      "metadata": {
        "id": "osD7wc8AjhOC"
      }
    },
    {
      "cell_type": "code",
      "source": [
        "i = 0\n",
        "while i<10:\n",
        "  print(i)\n",
        "  i+=1\n"
      ],
      "metadata": {
        "colab": {
          "base_uri": "https://localhost:8080/"
        },
        "id": "OxDyLx1-ji92",
        "outputId": "1aa6b2de-105f-4c08-d024-8bdabc58b952"
      },
      "execution_count": 17,
      "outputs": [
        {
          "output_type": "stream",
          "name": "stdout",
          "text": [
            "0\n",
            "1\n",
            "2\n",
            "3\n",
            "4\n",
            "5\n",
            "6\n",
            "7\n",
            "8\n",
            "9\n"
          ]
        }
      ]
    },
    {
      "cell_type": "code",
      "source": [],
      "metadata": {
        "id": "gdsChkccj4S8"
      },
      "execution_count": null,
      "outputs": []
    }
  ]
}