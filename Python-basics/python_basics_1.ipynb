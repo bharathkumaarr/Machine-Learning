{
  "nbformat": 4,
  "nbformat_minor": 0,
  "metadata": {
    "colab": {
      "provenance": [],
      "authorship_tag": "ABX9TyMJAcr/lg7VrMh8xmYmLfQL",
      "include_colab_link": true
    },
    "kernelspec": {
      "name": "python3",
      "display_name": "Python 3"
    },
    "language_info": {
      "name": "python"
    }
  },
  "cells": [
    {
      "cell_type": "markdown",
      "metadata": {
        "id": "view-in-github",
        "colab_type": "text"
      },
      "source": [
        "<a href=\"https://colab.research.google.com/github/bharathkumaarr/Machine-Learning/blob/main/Python-basics/python_basics_1.ipynb\" target=\"_parent\"><img src=\"https://colab.research.google.com/assets/colab-badge.svg\" alt=\"Open In Colab\"/></a>"
      ]
    },
    {
      "cell_type": "markdown",
      "source": [
        "#Print function"
      ],
      "metadata": {
        "id": "4ZZXyyZSV2A_"
      }
    },
    {
      "cell_type": "code",
      "execution_count": null,
      "metadata": {
        "colab": {
          "base_uri": "https://localhost:8080/"
        },
        "id": "mfnUHyNQUuVc",
        "outputId": "dc473863-fc5b-4f2a-aae9-cbdd922ec0b1"
      },
      "outputs": [
        {
          "output_type": "stream",
          "name": "stdout",
          "text": [
            "machine learning\n"
          ]
        }
      ],
      "source": [
        "print(\"machine learning\")"
      ]
    },
    {
      "cell_type": "markdown",
      "source": [
        "Both single and double quotes are fine"
      ],
      "metadata": {
        "id": "870FUDZzWDS_"
      }
    },
    {
      "cell_type": "code",
      "source": [
        "print('Machine learning')"
      ],
      "metadata": {
        "colab": {
          "base_uri": "https://localhost:8080/"
        },
        "id": "pCSaaj8eV_Ht",
        "outputId": "c97756de-2750-4773-cf8a-685112e84be8"
      },
      "execution_count": null,
      "outputs": [
        {
          "output_type": "stream",
          "name": "stdout",
          "text": [
            "Machine learning\n"
          ]
        }
      ]
    },
    {
      "cell_type": "markdown",
      "source": [
        "Concatenation of strings"
      ],
      "metadata": {
        "id": "o92kAj6oWU5A"
      }
    },
    {
      "cell_type": "code",
      "source": [
        "print(\"machine Learning\" + \" projects\" )"
      ],
      "metadata": {
        "colab": {
          "base_uri": "https://localhost:8080/"
        },
        "id": "RLY5fmUNWCwL",
        "outputId": "6b4944ba-7054-4b37-882c-d49f1848857a"
      },
      "execution_count": null,
      "outputs": [
        {
          "output_type": "stream",
          "name": "stdout",
          "text": [
            "machine Learning projects\n"
          ]
        }
      ]
    },
    {
      "cell_type": "code",
      "source": [
        "print(4)"
      ],
      "metadata": {
        "colab": {
          "base_uri": "https://localhost:8080/"
        },
        "id": "q7QmhhkzWRw-",
        "outputId": "8aadd000-8c03-4bb5-f53b-51eb954f3323"
      },
      "execution_count": null,
      "outputs": [
        {
          "output_type": "stream",
          "name": "stdout",
          "text": [
            "4\n"
          ]
        }
      ]
    },
    {
      "cell_type": "code",
      "source": [
        "print(1+3)"
      ],
      "metadata": {
        "colab": {
          "base_uri": "https://localhost:8080/"
        },
        "id": "0hGt41fRWdn5",
        "outputId": "121304f0-bbea-41a5-baee-1ae4c16cd241"
      },
      "execution_count": null,
      "outputs": [
        {
          "output_type": "stream",
          "name": "stdout",
          "text": [
            "4\n"
          ]
        }
      ]
    },
    {
      "cell_type": "code",
      "source": [],
      "metadata": {
        "id": "fkykvhtCWhA1"
      },
      "execution_count": null,
      "outputs": []
    },
    {
      "cell_type": "markdown",
      "source": [],
      "metadata": {
        "id": "H-Z_cyKlXDHU"
      }
    },
    {
      "cell_type": "markdown",
      "source": [
        "#Basic Data types\n",
        " int, float, strings"
      ],
      "metadata": {
        "id": "3kFVUSFzXFYY"
      }
    },
    {
      "cell_type": "code",
      "source": [
        "type(8)"
      ],
      "metadata": {
        "colab": {
          "base_uri": "https://localhost:8080/"
        },
        "id": "5tPYPHFJXGwz",
        "outputId": "2c04ed74-816b-4992-a608-d43008cbf8d9"
      },
      "execution_count": null,
      "outputs": [
        {
          "output_type": "execute_result",
          "data": {
            "text/plain": [
              "int"
            ]
          },
          "metadata": {},
          "execution_count": 8
        }
      ]
    },
    {
      "cell_type": "code",
      "source": [
        "type(6.0)"
      ],
      "metadata": {
        "colab": {
          "base_uri": "https://localhost:8080/"
        },
        "id": "jIPgMlbUXUu5",
        "outputId": "3f59d0ff-f5e4-49d0-ec25-8254b88cd40d"
      },
      "execution_count": null,
      "outputs": [
        {
          "output_type": "execute_result",
          "data": {
            "text/plain": [
              "float"
            ]
          },
          "metadata": {},
          "execution_count": 9
        }
      ]
    },
    {
      "cell_type": "code",
      "source": [
        "type(\"shit\")"
      ],
      "metadata": {
        "colab": {
          "base_uri": "https://localhost:8080/"
        },
        "id": "0yU8pDCZXX7x",
        "outputId": "bd1debe6-53a7-46c6-a88c-03a06f397c24"
      },
      "execution_count": null,
      "outputs": [
        {
          "output_type": "execute_result",
          "data": {
            "text/plain": [
              "str"
            ]
          },
          "metadata": {},
          "execution_count": 10
        }
      ]
    },
    {
      "cell_type": "code",
      "source": [],
      "metadata": {
        "id": "WC1bQJkCXawu"
      },
      "execution_count": null,
      "outputs": []
    },
    {
      "cell_type": "markdown",
      "source": [
        "#constants & variables"
      ],
      "metadata": {
        "id": "g7UldWBHXfVD"
      }
    },
    {
      "cell_type": "code",
      "source": [
        "hero = \"Iron Man\"\n",
        "print(hero)"
      ],
      "metadata": {
        "colab": {
          "base_uri": "https://localhost:8080/"
        },
        "id": "TDtBUOyTXiqw",
        "outputId": "314718f4-cb4e-4ed8-f2aa-311159a2ef15"
      },
      "execution_count": null,
      "outputs": [
        {
          "output_type": "stream",
          "name": "stdout",
          "text": [
            "Iron Man\n"
          ]
        }
      ]
    },
    {
      "cell_type": "code",
      "source": [
        "hero = \"Captain America\""
      ],
      "metadata": {
        "id": "iEGA_4-GXvf6"
      },
      "execution_count": null,
      "outputs": []
    },
    {
      "cell_type": "code",
      "source": [
        "print(hero)"
      ],
      "metadata": {
        "colab": {
          "base_uri": "https://localhost:8080/"
        },
        "id": "7GiUQmZGYGU8",
        "outputId": "dee822a6-8d9d-4df6-b799-f02010d3da85"
      },
      "execution_count": null,
      "outputs": [
        {
          "output_type": "stream",
          "name": "stdout",
          "text": [
            "Captain America\n"
          ]
        }
      ]
    },
    {
      "cell_type": "markdown",
      "source": [],
      "metadata": {
        "id": "PPDjpRzOYLA3"
      }
    },
    {
      "cell_type": "code",
      "source": [
        "hero1, hero2, hero3 = \"iron man\", \"captain america\", \"batman\"\n",
        "print(hero1)\n",
        "print(hero2)\n",
        "print(hero3)"
      ],
      "metadata": {
        "colab": {
          "base_uri": "https://localhost:8080/"
        },
        "id": "Ef0aEwE9YKKI",
        "outputId": "db7413d7-bb8b-4ace-da12-0f1e021e7e7d"
      },
      "execution_count": null,
      "outputs": [
        {
          "output_type": "stream",
          "name": "stdout",
          "text": [
            "iron man\n",
            "captain america\n",
            "batman\n"
          ]
        }
      ]
    },
    {
      "cell_type": "code",
      "source": [
        "x = y = z = 34"
      ],
      "metadata": {
        "id": "0hpuC9m8YSOv"
      },
      "execution_count": null,
      "outputs": []
    },
    {
      "cell_type": "code",
      "source": [
        "print(x)\n",
        "print(y)\n",
        "print(z)\n"
      ],
      "metadata": {
        "colab": {
          "base_uri": "https://localhost:8080/"
        },
        "id": "Yb7Y1tFTYUls",
        "outputId": "3377a5c1-5bd9-4722-d070-7cbe8188dae4"
      },
      "execution_count": null,
      "outputs": [
        {
          "output_type": "stream",
          "name": "stdout",
          "text": [
            "34\n",
            "34\n",
            "34\n"
          ]
        }
      ]
    },
    {
      "cell_type": "markdown",
      "source": [
        "python is case-sensitive"
      ],
      "metadata": {
        "id": "MvGOlR3XZNuX"
      }
    },
    {
      "cell_type": "markdown",
      "source": [
        "#Input Function\n",
        "#Int function"
      ],
      "metadata": {
        "id": "-sottxpqZSEf"
      }
    },
    {
      "cell_type": "markdown",
      "source": [
        "sum of two numbers using inout functions"
      ],
      "metadata": {
        "id": "WwYrHfMmZrh8"
      }
    },
    {
      "cell_type": "code",
      "source": [
        "number1 = int(input(\"enter the first numebr: \"))\n",
        "number2 = int(input(\"enter the second number: \"))\n",
        "\n",
        "sum = number1 + number2\n",
        "print(sum)"
      ],
      "metadata": {
        "colab": {
          "base_uri": "https://localhost:8080/"
        },
        "id": "nyX4bkw_YWR9",
        "outputId": "4b004889-afe6-427a-cdbe-baa50add2747"
      },
      "execution_count": null,
      "outputs": [
        {
          "output_type": "stream",
          "name": "stdout",
          "text": [
            "enter the first numebr: 23\n",
            "enter the second number: 23\n",
            "46\n"
          ]
        }
      ]
    },
    {
      "cell_type": "markdown",
      "source": [
        "#change the datatype"
      ],
      "metadata": {
        "id": "wcsD85F0aM41"
      }
    },
    {
      "cell_type": "code",
      "source": [
        "num = 5\n",
        "type(5)"
      ],
      "metadata": {
        "colab": {
          "base_uri": "https://localhost:8080/"
        },
        "id": "GOuqq3B0ZhRM",
        "outputId": "6544a07a-c029-45cc-9d8a-d9d38acb4f4a"
      },
      "execution_count": null,
      "outputs": [
        {
          "output_type": "execute_result",
          "data": {
            "text/plain": [
              "int"
            ]
          },
          "metadata": {},
          "execution_count": 35
        }
      ]
    },
    {
      "cell_type": "markdown",
      "source": [
        "change the datatype of a variable"
      ],
      "metadata": {
        "id": "Q6PMtqsta2Z4"
      }
    },
    {
      "cell_type": "code",
      "source": [
        "type(float(num))"
      ],
      "metadata": {
        "colab": {
          "base_uri": "https://localhost:8080/"
        },
        "id": "NXKc2PvCaQ7u",
        "outputId": "782a64f3-3384-4c2d-bd56-22ec78e84a4f"
      },
      "execution_count": null,
      "outputs": [
        {
          "output_type": "execute_result",
          "data": {
            "text/plain": [
              "float"
            ]
          },
          "metadata": {},
          "execution_count": 41
        }
      ]
    },
    {
      "cell_type": "markdown",
      "source": [
        "#More Datatypes in py\n",
        "integer, floating point, Complex, Boolean, String\n",
        "\n",
        "***Integer & Floating***"
      ],
      "metadata": {
        "id": "C_bxnTIZbDma"
      }
    },
    {
      "cell_type": "code",
      "source": [
        "#integers\n",
        "a = 8\n",
        "print(a)"
      ],
      "metadata": {
        "colab": {
          "base_uri": "https://localhost:8080/"
        },
        "id": "dE3DRBE2aTqz",
        "outputId": "fbcbe455-f6e0-4e21-b329-9c7a5c8ff358"
      },
      "execution_count": null,
      "outputs": [
        {
          "output_type": "stream",
          "name": "stdout",
          "text": [
            "8\n"
          ]
        }
      ]
    },
    {
      "cell_type": "code",
      "source": [
        "type(a)"
      ],
      "metadata": {
        "colab": {
          "base_uri": "https://localhost:8080/"
        },
        "id": "WWTXfyq6aViV",
        "outputId": "6b684314-f1b2-477b-b6be-ae03084067c2"
      },
      "execution_count": null,
      "outputs": [
        {
          "output_type": "execute_result",
          "data": {
            "text/plain": [
              "int"
            ]
          },
          "metadata": {},
          "execution_count": 45
        }
      ]
    },
    {
      "cell_type": "code",
      "source": [
        "#floating point\n",
        "b = 6.8\n",
        "print(b)\n",
        "type(b)"
      ],
      "metadata": {
        "colab": {
          "base_uri": "https://localhost:8080/"
        },
        "id": "B3jNkIQBbiGG",
        "outputId": "e557c79e-582d-4386-f68d-d89db49be3a3"
      },
      "execution_count": null,
      "outputs": [
        {
          "output_type": "stream",
          "name": "stdout",
          "text": [
            "6.8\n"
          ]
        },
        {
          "output_type": "execute_result",
          "data": {
            "text/plain": [
              "float"
            ]
          },
          "metadata": {},
          "execution_count": 47
        }
      ]
    },
    {
      "cell_type": "code",
      "source": [
        "#complex numbers\n",
        "c = 1+2j\n",
        "print(c)\n",
        "type(c)"
      ],
      "metadata": {
        "colab": {
          "base_uri": "https://localhost:8080/"
        },
        "id": "FteSKuIwblG4",
        "outputId": "e25a6e41-021a-43e4-db6b-2a0a636b2cde"
      },
      "execution_count": null,
      "outputs": [
        {
          "output_type": "stream",
          "name": "stdout",
          "text": [
            "(1+2j)\n"
          ]
        },
        {
          "output_type": "execute_result",
          "data": {
            "text/plain": [
              "complex"
            ]
          },
          "metadata": {},
          "execution_count": 49
        }
      ]
    },
    {
      "cell_type": "markdown",
      "source": [
        "conversion of one datatype to another"
      ],
      "metadata": {
        "id": "ogckIx4Ub34f"
      }
    },
    {
      "cell_type": "code",
      "source": [
        "#int to float\n",
        "x = 10\n",
        "print(x)\n",
        "type(x)"
      ],
      "metadata": {
        "colab": {
          "base_uri": "https://localhost:8080/"
        },
        "id": "4ZDaVZnxbzE6",
        "outputId": "6ae0d425-a1dc-4508-cbd1-001b6979a97b"
      },
      "execution_count": null,
      "outputs": [
        {
          "output_type": "stream",
          "name": "stdout",
          "text": [
            "10\n"
          ]
        },
        {
          "output_type": "execute_result",
          "data": {
            "text/plain": [
              "int"
            ]
          },
          "metadata": {},
          "execution_count": 50
        }
      ]
    },
    {
      "cell_type": "code",
      "source": [
        "y=float(x)\n",
        "print(y)\n",
        "type(y)"
      ],
      "metadata": {
        "colab": {
          "base_uri": "https://localhost:8080/"
        },
        "id": "8zgXOHBhcEh0",
        "outputId": "2187ff2e-0ebf-44df-b04d-a793d545c7c4"
      },
      "execution_count": null,
      "outputs": [
        {
          "output_type": "stream",
          "name": "stdout",
          "text": [
            "10.0\n"
          ]
        },
        {
          "output_type": "execute_result",
          "data": {
            "text/plain": [
              "float"
            ]
          },
          "metadata": {},
          "execution_count": 51
        }
      ]
    },
    {
      "cell_type": "code",
      "source": [
        "#float to int\n",
        "p = 5.78\n",
        "print(p)\n",
        "type(p)"
      ],
      "metadata": {
        "colab": {
          "base_uri": "https://localhost:8080/"
        },
        "id": "h5uKc8HAcLep",
        "outputId": "6c5078d7-dd35-4ad5-add1-0a467af1d39d"
      },
      "execution_count": null,
      "outputs": [
        {
          "output_type": "stream",
          "name": "stdout",
          "text": [
            "5.78\n"
          ]
        },
        {
          "output_type": "execute_result",
          "data": {
            "text/plain": [
              "float"
            ]
          },
          "metadata": {},
          "execution_count": 52
        }
      ]
    },
    {
      "cell_type": "code",
      "source": [
        "q =int(p)\n",
        "print(q)\n",
        "type(q)"
      ],
      "metadata": {
        "colab": {
          "base_uri": "https://localhost:8080/"
        },
        "id": "Qif9ah-jcVOt",
        "outputId": "ffdfcb99-9b15-4824-c23e-7c897ee7a634"
      },
      "execution_count": null,
      "outputs": [
        {
          "output_type": "stream",
          "name": "stdout",
          "text": [
            "5\n"
          ]
        },
        {
          "output_type": "execute_result",
          "data": {
            "text/plain": [
              "int"
            ]
          },
          "metadata": {},
          "execution_count": 54
        }
      ]
    },
    {
      "cell_type": "markdown",
      "source": [
        "***Boolean***\n",
        "\n",
        "True, False"
      ],
      "metadata": {
        "id": "wALdFDCfy0dd"
      }
    },
    {
      "cell_type": "code",
      "source": [
        "a = True\n",
        "print(a)\n",
        "type(a)"
      ],
      "metadata": {
        "id": "QuhnZ6krcipB",
        "colab": {
          "base_uri": "https://localhost:8080/"
        },
        "outputId": "a8cdd623-e482-43a7-ebcb-5d1740a42165"
      },
      "execution_count": 2,
      "outputs": [
        {
          "output_type": "stream",
          "name": "stdout",
          "text": [
            "True\n"
          ]
        },
        {
          "output_type": "execute_result",
          "data": {
            "text/plain": [
              "bool"
            ]
          },
          "metadata": {},
          "execution_count": 2
        }
      ]
    },
    {
      "cell_type": "code",
      "source": [
        " b = False\n",
        " print(b)\n",
        " type(b)"
      ],
      "metadata": {
        "colab": {
          "base_uri": "https://localhost:8080/"
        },
        "id": "fo6BPyHoy-Q6",
        "outputId": "cb62b496-9e6a-49e3-f008-bfa5627354d9"
      },
      "execution_count": 3,
      "outputs": [
        {
          "output_type": "stream",
          "name": "stdout",
          "text": [
            "False\n"
          ]
        },
        {
          "output_type": "execute_result",
          "data": {
            "text/plain": [
              "bool"
            ]
          },
          "metadata": {},
          "execution_count": 3
        }
      ]
    },
    {
      "cell_type": "code",
      "source": [
        "a = 7<4\n",
        "print(a)\n",
        "type(a)"
      ],
      "metadata": {
        "colab": {
          "base_uri": "https://localhost:8080/"
        },
        "id": "tEo9WY92zKY8",
        "outputId": "c5811a10-c1ce-4272-da8f-a407ede146e0"
      },
      "execution_count": 5,
      "outputs": [
        {
          "output_type": "stream",
          "name": "stdout",
          "text": [
            "False\n"
          ]
        },
        {
          "output_type": "execute_result",
          "data": {
            "text/plain": [
              "bool"
            ]
          },
          "metadata": {},
          "execution_count": 5
        }
      ]
    },
    {
      "cell_type": "code",
      "source": [
        "b= 7<43\n",
        "print(b)\n",
        "type(b)"
      ],
      "metadata": {
        "colab": {
          "base_uri": "https://localhost:8080/"
        },
        "id": "NjMKZ6PfzUIX",
        "outputId": "55bbbb9a-8ec3-44bc-f24b-c09692d2a92a"
      },
      "execution_count": 7,
      "outputs": [
        {
          "output_type": "stream",
          "name": "stdout",
          "text": [
            "True\n"
          ]
        },
        {
          "output_type": "execute_result",
          "data": {
            "text/plain": [
              "bool"
            ]
          },
          "metadata": {},
          "execution_count": 7
        }
      ]
    },
    {
      "cell_type": "markdown",
      "source": [
        "***String***"
      ],
      "metadata": {
        "id": "XZLmvDlWzobM"
      }
    },
    {
      "cell_type": "code",
      "source": [
        "print(\"machine learning\")"
      ],
      "metadata": {
        "colab": {
          "base_uri": "https://localhost:8080/"
        },
        "id": "n9M7LAzOzfhz",
        "outputId": "45281b50-d191-4735-b0ad-0a534d2e2c99"
      },
      "execution_count": 8,
      "outputs": [
        {
          "output_type": "stream",
          "name": "stdout",
          "text": [
            "machine learning\n"
          ]
        }
      ]
    },
    {
      "cell_type": "code",
      "source": [
        "print('hello')"
      ],
      "metadata": {
        "colab": {
          "base_uri": "https://localhost:8080/"
        },
        "id": "OUqLzj6s09Zf",
        "outputId": "300e7434-e9f0-4f69-fc77-d6bd7a3f5e3c"
      },
      "execution_count": 9,
      "outputs": [
        {
          "output_type": "stream",
          "name": "stdout",
          "text": [
            "hello\n"
          ]
        }
      ]
    },
    {
      "cell_type": "code",
      "source": [
        "my_string = \"Machine Learning\"\n",
        "print(my_string)\n",
        "type(my_string)"
      ],
      "metadata": {
        "colab": {
          "base_uri": "https://localhost:8080/"
        },
        "id": "0BuYEpNA1ANh",
        "outputId": "1d5eb1b4-156e-4898-c4b6-45194938bed6"
      },
      "execution_count": 12,
      "outputs": [
        {
          "output_type": "stream",
          "name": "stdout",
          "text": [
            "Machine Learning\n"
          ]
        },
        {
          "output_type": "execute_result",
          "data": {
            "text/plain": [
              "str"
            ]
          },
          "metadata": {},
          "execution_count": 12
        }
      ]
    },
    {
      "cell_type": "code",
      "source": [
        "print(\"hello\"*5)"
      ],
      "metadata": {
        "colab": {
          "base_uri": "https://localhost:8080/"
        },
        "id": "Wyvp6_p41Lue",
        "outputId": "6235bc84-8ece-4c97-bfe5-f9cd56701c70"
      },
      "execution_count": 15,
      "outputs": [
        {
          "output_type": "stream",
          "name": "stdout",
          "text": [
            "hellohellohellohellohello\n"
          ]
        }
      ]
    },
    {
      "cell_type": "markdown",
      "source": [
        "***SLICING***"
      ],
      "metadata": {
        "id": "Ulf8zjXU1boU"
      }
    },
    {
      "cell_type": "code",
      "source": [
        "my_string1 = \"machine Learning\"\n",
        "print(my_string1[1:5]) #values from  1 to 5-1"
      ],
      "metadata": {
        "colab": {
          "base_uri": "https://localhost:8080/"
        },
        "id": "V8oQL53d1WuV",
        "outputId": "6facec67-74c7-41da-ceae-19a3973fd97a"
      },
      "execution_count": 21,
      "outputs": [
        {
          "output_type": "stream",
          "name": "stdout",
          "text": [
            "achi\n"
          ]
        }
      ]
    },
    {
      "cell_type": "markdown",
      "source": [
        "***STEP***\n"
      ],
      "metadata": {
        "id": "l9EJCWoW18d2"
      }
    },
    {
      "cell_type": "code",
      "source": [
        "print(my_string1[0:10:2])"
      ],
      "metadata": {
        "colab": {
          "base_uri": "https://localhost:8080/"
        },
        "id": "6YD9PVRk1i76",
        "outputId": "1dd868af-9572-40bb-b818-f98babb733fa"
      },
      "execution_count": 22,
      "outputs": [
        {
          "output_type": "stream",
          "name": "stdout",
          "text": [
            "mcieL\n"
          ]
        }
      ]
    },
    {
      "cell_type": "markdown",
      "source": [
        "***String Concatenation***"
      ],
      "metadata": {
        "id": "057IHcKx2T0g"
      }
    },
    {
      "cell_type": "code",
      "source": [
        "word1 = \"machine \"\n",
        "word2 = \"learning\"\n",
        "print(word1 + word2)"
      ],
      "metadata": {
        "colab": {
          "base_uri": "https://localhost:8080/"
        },
        "id": "DL2yzc932GsR",
        "outputId": "8af7d3a6-de8c-44d1-a8db-2a89e741e8f8"
      },
      "execution_count": 25,
      "outputs": [
        {
          "output_type": "stream",
          "name": "stdout",
          "text": [
            "machine learning\n"
          ]
        }
      ]
    }
  ]
}