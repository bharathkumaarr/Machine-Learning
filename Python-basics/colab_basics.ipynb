{
  "nbformat": 4,
  "nbformat_minor": 0,
  "metadata": {
    "colab": {
      "provenance": [],
      "authorship_tag": "ABX9TyMvxF+EiwXuThUEQurDVHvb",
      "include_colab_link": true
    },
    "kernelspec": {
      "name": "python3",
      "display_name": "Python 3"
    },
    "language_info": {
      "name": "python"
    }
  },
  "cells": [
    {
      "cell_type": "markdown",
      "metadata": {
        "id": "view-in-github",
        "colab_type": "text"
      },
      "source": [
        "<a href=\"https://colab.research.google.com/github/bharathkumaarr/Machine-Learning/blob/main/Python-basics/colab_basics.ipynb\" target=\"_parent\"><img src=\"https://colab.research.google.com/assets/colab-badge.svg\" alt=\"Open In Colab\"/></a>"
      ]
    },
    {
      "cell_type": "markdown",
      "source": [
        "#cell\n",
        "#system specifications"
      ],
      "metadata": {
        "id": "JNpCZ6FtR0uN"
      }
    },
    {
      "cell_type": "code",
      "execution_count": null,
      "metadata": {
        "id": "y8Hb8H5PRZMy"
      },
      "outputs": [],
      "source": [
        "!cat /proc/cpuinfo"
      ]
    },
    {
      "cell_type": "markdown",
      "source": [
        "#RAM info"
      ],
      "metadata": {
        "id": "JcqJiJbYTTIz"
      }
    },
    {
      "cell_type": "code",
      "source": [
        "!cat /proc/meminfo"
      ],
      "metadata": {
        "colab": {
          "base_uri": "https://localhost:8080/"
        },
        "id": "NaWsW3RySa0d",
        "outputId": "887a36e9-e2ec-45e2-cd6f-3cbfa514b836"
      },
      "execution_count": 2,
      "outputs": [
        {
          "output_type": "stream",
          "name": "stdout",
          "text": [
            "MemTotal:       13294208 kB\n",
            "MemFree:        10415756 kB\n",
            "MemAvailable:   12425424 kB\n",
            "Buffers:           57664 kB\n",
            "Cached:          2155672 kB\n",
            "SwapCached:            0 kB\n",
            "Active:           704848 kB\n",
            "Inactive:        1965924 kB\n",
            "Active(anon):        992 kB\n",
            "Inactive(anon):   457708 kB\n",
            "Active(file):     703856 kB\n",
            "Inactive(file):  1508216 kB\n",
            "Unevictable:           4 kB\n",
            "Mlocked:               4 kB\n",
            "SwapTotal:             0 kB\n",
            "SwapFree:              0 kB\n",
            "Dirty:               356 kB\n",
            "Writeback:             0 kB\n",
            "AnonPages:        457492 kB\n",
            "Mapped:           264560 kB\n",
            "Shmem:              1260 kB\n",
            "KReclaimable:      77100 kB\n",
            "Slab:             110212 kB\n",
            "SReclaimable:      77100 kB\n",
            "SUnreclaim:        33112 kB\n",
            "KernelStack:        4160 kB\n",
            "PageTables:         8500 kB\n",
            "NFS_Unstable:          0 kB\n",
            "Bounce:                0 kB\n",
            "WritebackTmp:          0 kB\n",
            "CommitLimit:     6647104 kB\n",
            "Committed_AS:    2000740 kB\n",
            "VmallocTotal:   34359738367 kB\n",
            "VmallocUsed:        9108 kB\n",
            "VmallocChunk:          0 kB\n",
            "Percpu:             1296 kB\n",
            "HardwareCorrupted:     0 kB\n",
            "AnonHugePages:         0 kB\n",
            "ShmemHugePages:        0 kB\n",
            "ShmemPmdMapped:        0 kB\n",
            "FileHugePages:         0 kB\n",
            "FilePmdMapped:         0 kB\n",
            "CmaTotal:              0 kB\n",
            "CmaFree:               0 kB\n",
            "HugePages_Total:       0\n",
            "HugePages_Free:        0\n",
            "HugePages_Rsvd:        0\n",
            "HugePages_Surp:        0\n",
            "Hugepagesize:       2048 kB\n",
            "Hugetlb:               0 kB\n",
            "DirectMap4k:       78648 kB\n",
            "DirectMap2M:     4112384 kB\n",
            "DirectMap1G:    11534336 kB\n"
          ]
        }
      ]
    },
    {
      "cell_type": "markdown",
      "source": [
        "#installing libraries"
      ],
      "metadata": {
        "id": "MgCi6rIuTXJ3"
      }
    },
    {
      "cell_type": "code",
      "source": [
        "!pip install pandas"
      ],
      "metadata": {
        "colab": {
          "base_uri": "https://localhost:8080/"
        },
        "id": "8yDxNP1DS4g5",
        "outputId": "aa909705-eaca-4b1c-802e-152aa441cc38"
      },
      "execution_count": 3,
      "outputs": [
        {
          "output_type": "stream",
          "name": "stdout",
          "text": [
            "Requirement already satisfied: pandas in /usr/local/lib/python3.10/dist-packages (1.5.3)\n",
            "Requirement already satisfied: python-dateutil>=2.8.1 in /usr/local/lib/python3.10/dist-packages (from pandas) (2.8.2)\n",
            "Requirement already satisfied: pytz>=2020.1 in /usr/local/lib/python3.10/dist-packages (from pandas) (2023.3.post1)\n",
            "Requirement already satisfied: numpy>=1.21.0 in /usr/local/lib/python3.10/dist-packages (from pandas) (1.23.5)\n",
            "Requirement already satisfied: six>=1.5 in /usr/local/lib/python3.10/dist-packages (from python-dateutil>=2.8.1->pandas) (1.16.0)\n"
          ]
        }
      ]
    },
    {
      "cell_type": "code",
      "source": [
        "import pandas as pd"
      ],
      "metadata": {
        "id": "-I6YnIX8TgiL"
      },
      "execution_count": 4,
      "outputs": []
    },
    {
      "cell_type": "markdown",
      "source": [
        "python"
      ],
      "metadata": {
        "id": "z6Qqi_qeU_p4"
      }
    },
    {
      "cell_type": "code",
      "source": [
        "print(\"machine learning\")"
      ],
      "metadata": {
        "colab": {
          "base_uri": "https://localhost:8080/"
        },
        "id": "m_ixJAZiTsL9",
        "outputId": "09fc0dad-13d7-4897-f04c-314cd263c4a7"
      },
      "execution_count": 5,
      "outputs": [
        {
          "output_type": "stream",
          "name": "stdout",
          "text": [
            "machine learning\n"
          ]
        }
      ]
    },
    {
      "cell_type": "code",
      "source": [],
      "metadata": {
        "id": "chhJaKGdUNoM"
      },
      "execution_count": null,
      "outputs": []
    },
    {
      "cell_type": "markdown",
      "source": [
        "#list all the files in the environment"
      ],
      "metadata": {
        "id": "MOcPrVDmUSlv"
      }
    },
    {
      "cell_type": "code",
      "source": [
        "!ls"
      ],
      "metadata": {
        "colab": {
          "base_uri": "https://localhost:8080/"
        },
        "id": "p_2BCh28UVR6",
        "outputId": "2830dfb7-8b41-45c3-ad89-f1cea63fa826"
      },
      "execution_count": 6,
      "outputs": [
        {
          "output_type": "stream",
          "name": "stdout",
          "text": [
            "sample_data\n"
          ]
        }
      ]
    },
    {
      "cell_type": "code",
      "source": [],
      "metadata": {
        "id": "ose6-EwsUWiJ"
      },
      "execution_count": 6,
      "outputs": []
    }
  ]
}